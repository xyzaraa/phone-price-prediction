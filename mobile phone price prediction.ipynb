{
 "cells": [
  {
   "cell_type": "code",
   "execution_count": 1,
   "id": "a514eec4",
   "metadata": {
    "_cell_guid": "b1076dfc-b9ad-4769-8c92-a6c4dae69d19",
    "_uuid": "8f2839f25d086af736a60e9eeb907d3b93b6e0e5",
    "execution": {
     "iopub.execute_input": "2025-07-15T10:51:38.024686Z",
     "iopub.status.busy": "2025-07-15T10:51:38.024396Z",
     "iopub.status.idle": "2025-07-15T10:51:41.311980Z",
     "shell.execute_reply": "2025-07-15T10:51:41.311092Z"
    },
    "papermill": {
     "duration": 3.298087,
     "end_time": "2025-07-15T10:51:41.313587",
     "exception": false,
     "start_time": "2025-07-15T10:51:38.015500",
     "status": "completed"
    },
    "tags": []
   },
   "outputs": [
    {
     "name": "stdout",
     "output_type": "stream",
     "text": [
      "/kaggle/input/mobile-uncleaned-data-set-scrapped-real-website/mobile.csv\n"
     ]
    }
   ],
   "source": [
    "import numpy as np \n",
    "import pandas as pd\n",
    "import seaborn as sns\n",
    "import matplotlib.pyplot as plt\n",
    "import os\n",
    "for dirname, _, filenames in os.walk('/kaggle/input/mobile-uncleaned-data-set-scrapped-real-website'):\n",
    "    for filename in filenames:\n",
    "        print(os.path.join(dirname, filename))"
   ]
  },
  {
   "cell_type": "markdown",
   "id": "9a67ecae",
   "metadata": {
    "papermill": {
     "duration": 0.006922,
     "end_time": "2025-07-15T10:51:41.328029",
     "exception": false,
     "start_time": "2025-07-15T10:51:41.321107",
     "status": "completed"
    },
    "tags": []
   },
   "source": [
    "## Data Cleaning"
   ]
  },
  {
   "cell_type": "code",
   "execution_count": 2,
   "id": "5f2c21f5",
   "metadata": {
    "execution": {
     "iopub.execute_input": "2025-07-15T10:51:41.343165Z",
     "iopub.status.busy": "2025-07-15T10:51:41.342382Z",
     "iopub.status.idle": "2025-07-15T10:51:41.373690Z",
     "shell.execute_reply": "2025-07-15T10:51:41.372961Z"
    },
    "papermill": {
     "duration": 0.040296,
     "end_time": "2025-07-15T10:51:41.375132",
     "exception": false,
     "start_time": "2025-07-15T10:51:41.334836",
     "status": "completed"
    },
    "tags": []
   },
   "outputs": [],
   "source": [
    "df = pd.read_csv('/kaggle/input/mobile-uncleaned-data-set-scrapped-real-website/mobile.csv')"
   ]
  },
  {
   "cell_type": "code",
   "execution_count": 3,
   "id": "60fbfc03",
   "metadata": {
    "execution": {
     "iopub.execute_input": "2025-07-15T10:51:41.390663Z",
     "iopub.status.busy": "2025-07-15T10:51:41.390358Z",
     "iopub.status.idle": "2025-07-15T10:51:41.415342Z",
     "shell.execute_reply": "2025-07-15T10:51:41.414582Z"
    },
    "papermill": {
     "duration": 0.033631,
     "end_time": "2025-07-15T10:51:41.416602",
     "exception": false,
     "start_time": "2025-07-15T10:51:41.382971",
     "status": "completed"
    },
    "tags": []
   },
   "outputs": [
    {
     "data": {
      "text/html": [
       "<div>\n",
       "<style scoped>\n",
       "    .dataframe tbody tr th:only-of-type {\n",
       "        vertical-align: middle;\n",
       "    }\n",
       "\n",
       "    .dataframe tbody tr th {\n",
       "        vertical-align: top;\n",
       "    }\n",
       "\n",
       "    .dataframe thead th {\n",
       "        text-align: right;\n",
       "    }\n",
       "</style>\n",
       "<table border=\"1\" class=\"dataframe\">\n",
       "  <thead>\n",
       "    <tr style=\"text-align: right;\">\n",
       "      <th></th>\n",
       "      <th>Name</th>\n",
       "      <th>Spec Score</th>\n",
       "      <th>rating</th>\n",
       "      <th>price</th>\n",
       "      <th>img</th>\n",
       "      <th>tag</th>\n",
       "      <th>sim</th>\n",
       "      <th>processor</th>\n",
       "      <th>storage</th>\n",
       "      <th>battery</th>\n",
       "      <th>display</th>\n",
       "      <th>camera</th>\n",
       "      <th>memoryExternal</th>\n",
       "      <th>version</th>\n",
       "      <th>fm</th>\n",
       "    </tr>\n",
       "  </thead>\n",
       "  <tbody>\n",
       "    <tr>\n",
       "      <th>0</th>\n",
       "      <td>OPPO Reno 14 Pro 5G</td>\n",
       "      <td>89</td>\n",
       "      <td>4.65</td>\n",
       "      <td>41990</td>\n",
       "      <td>https://cdn1.smartprix.com/rx-is822PXo3-w280-h...</td>\n",
       "      <td>UPCOMING</td>\n",
       "      <td>Dual Sim, 3G, 4G, 5G, VoLTE, Wi-Fi, NFC, IR Bl...</td>\n",
       "      <td>Dimensity 8450, Octa Core, 3.25 GHz Processor</td>\n",
       "      <td>12 GB RAM, 256 GB inbuilt</td>\n",
       "      <td>6200 mAh Battery with 80W Fast Charging</td>\n",
       "      <td>6.83 inches, 1272 x 2800 px, 120 Hz Display wi...</td>\n",
       "      <td>50 MP + 50 MP + 50 MP Triple Rear &amp; 50 MP Fron...</td>\n",
       "      <td>NaN</td>\n",
       "      <td>Android v15</td>\n",
       "      <td>No FM Radio</td>\n",
       "    </tr>\n",
       "    <tr>\n",
       "      <th>1</th>\n",
       "      <td>OPPO Reno 14 5G</td>\n",
       "      <td>87</td>\n",
       "      <td>4.75</td>\n",
       "      <td>32990</td>\n",
       "      <td>https://cdn1.smartprix.com/rx-iRGgfcGDH-w280-h...</td>\n",
       "      <td>UPCOMING</td>\n",
       "      <td>Dual Sim, 3G, 4G, 5G, VoLTE, Wi-Fi, NFC, IR Bl...</td>\n",
       "      <td>Dimensity 8350, Octa Core, 3.35 GHz Processor</td>\n",
       "      <td>8 GB RAM, 256 GB inbuilt</td>\n",
       "      <td>6000 mAh Battery with 80W Fast Charging</td>\n",
       "      <td>6.59 inches, 1256 x 2760 px, 120 Hz Display wi...</td>\n",
       "      <td>50 MP + 50 MP + 8 MP Triple Rear &amp; 50 MP Front...</td>\n",
       "      <td>NaN</td>\n",
       "      <td>Android v15</td>\n",
       "      <td>No FM Radio</td>\n",
       "    </tr>\n",
       "    <tr>\n",
       "      <th>2</th>\n",
       "      <td>Poco F7 5G</td>\n",
       "      <td>83</td>\n",
       "      <td>4.75</td>\n",
       "      <td>31999</td>\n",
       "      <td>https://cdn1.smartprix.com/rx-icmgBU9Q2-w280-h...</td>\n",
       "      <td>LAUNCHED</td>\n",
       "      <td>Dual Sim, 3G, 4G, 5G, VoLTE, Wi-Fi, NFC, IR Bl...</td>\n",
       "      <td>Snapdragon 8s Gen4, Octa Core, 3.2 GHz Processor</td>\n",
       "      <td>12 GB RAM, 256 GB inbuilt</td>\n",
       "      <td>7550 mAh Battery with 90W Fast Charging</td>\n",
       "      <td>6.83 inches, 1280 x 2772 px, 120 Hz Display wi...</td>\n",
       "      <td>50 MP + 8 MP Dual Rear &amp; 20 MP Front Camera</td>\n",
       "      <td>Memory Card Not Supported</td>\n",
       "      <td>Android v15</td>\n",
       "      <td>NaN</td>\n",
       "    </tr>\n",
       "    <tr>\n",
       "      <th>3</th>\n",
       "      <td>Vivo X200 FE</td>\n",
       "      <td>89</td>\n",
       "      <td>4.65</td>\n",
       "      <td>49990</td>\n",
       "      <td>https://cdn1.smartprix.com/rx-iHI7IaQgQ-w280-h...</td>\n",
       "      <td>UPCOMING</td>\n",
       "      <td>Dual Sim, 3G, 4G, 5G, VoLTE, Wi-Fi, NFC, IR Bl...</td>\n",
       "      <td>Dimensity 9300 Plus, Octa Core, 3.25 GHz Proce...</td>\n",
       "      <td>12 GB RAM, 256 GB inbuilt</td>\n",
       "      <td>6500 mAh Battery with 90W Fast Charging</td>\n",
       "      <td>6.31 inches, 1216 x 2640 px, 120 Hz Display wi...</td>\n",
       "      <td>50 MP + 50 MP + 8 MP Triple Rear &amp; 50 MP Front...</td>\n",
       "      <td>Memory Card Not Supported</td>\n",
       "      <td>Android v15</td>\n",
       "      <td>NaN</td>\n",
       "    </tr>\n",
       "    <tr>\n",
       "      <th>4</th>\n",
       "      <td>OPPO K13x 5G</td>\n",
       "      <td>73</td>\n",
       "      <td>4.20</td>\n",
       "      <td>11999</td>\n",
       "      <td>https://cdn1.smartprix.com/rx-iXUulomIY-w280-h...</td>\n",
       "      <td>LAUNCHED</td>\n",
       "      <td>Dual Sim, 3G, 4G, 5G, VoLTE, Wi-Fi</td>\n",
       "      <td>Dimensity 6300, Octa Core, 2.4 GHz Processor</td>\n",
       "      <td>4 GB RAM, 128 GB inbuilt</td>\n",
       "      <td>6000 mAh Battery with 45W Fast Charging</td>\n",
       "      <td>6.67 inches, 720 x 1604 px, 120 Hz Display wit...</td>\n",
       "      <td>50 MP + 2 MP Dual Rear &amp; 8 MP Front Camera</td>\n",
       "      <td>Memory Card Supported, upto 2 TB</td>\n",
       "      <td>Android v15</td>\n",
       "      <td>NaN</td>\n",
       "    </tr>\n",
       "  </tbody>\n",
       "</table>\n",
       "</div>"
      ],
      "text/plain": [
       "                  Name  Spec Score  rating  price  \\\n",
       "0  OPPO Reno 14 Pro 5G          89    4.65  41990   \n",
       "1      OPPO Reno 14 5G          87    4.75  32990   \n",
       "2           Poco F7 5G          83    4.75  31999   \n",
       "3         Vivo X200 FE          89    4.65  49990   \n",
       "4         OPPO K13x 5G          73    4.20  11999   \n",
       "\n",
       "                                                 img       tag  \\\n",
       "0  https://cdn1.smartprix.com/rx-is822PXo3-w280-h...  UPCOMING   \n",
       "1  https://cdn1.smartprix.com/rx-iRGgfcGDH-w280-h...  UPCOMING   \n",
       "2  https://cdn1.smartprix.com/rx-icmgBU9Q2-w280-h...  LAUNCHED   \n",
       "3  https://cdn1.smartprix.com/rx-iHI7IaQgQ-w280-h...  UPCOMING   \n",
       "4  https://cdn1.smartprix.com/rx-iXUulomIY-w280-h...  LAUNCHED   \n",
       "\n",
       "                                                 sim  \\\n",
       "0  Dual Sim, 3G, 4G, 5G, VoLTE, Wi-Fi, NFC, IR Bl...   \n",
       "1  Dual Sim, 3G, 4G, 5G, VoLTE, Wi-Fi, NFC, IR Bl...   \n",
       "2  Dual Sim, 3G, 4G, 5G, VoLTE, Wi-Fi, NFC, IR Bl...   \n",
       "3  Dual Sim, 3G, 4G, 5G, VoLTE, Wi-Fi, NFC, IR Bl...   \n",
       "4                 Dual Sim, 3G, 4G, 5G, VoLTE, Wi-Fi   \n",
       "\n",
       "                                           processor  \\\n",
       "0      Dimensity 8450, Octa Core, 3.25 GHz Processor   \n",
       "1      Dimensity 8350, Octa Core, 3.35 GHz Processor   \n",
       "2   Snapdragon 8s Gen4, Octa Core, 3.2 GHz Processor   \n",
       "3  Dimensity 9300 Plus, Octa Core, 3.25 GHz Proce...   \n",
       "4       Dimensity 6300, Octa Core, 2.4 GHz Processor   \n",
       "\n",
       "                     storage                                  battery  \\\n",
       "0  12 GB RAM, 256 GB inbuilt  6200 mAh Battery with 80W Fast Charging   \n",
       "1   8 GB RAM, 256 GB inbuilt  6000 mAh Battery with 80W Fast Charging   \n",
       "2  12 GB RAM, 256 GB inbuilt  7550 mAh Battery with 90W Fast Charging   \n",
       "3  12 GB RAM, 256 GB inbuilt  6500 mAh Battery with 90W Fast Charging   \n",
       "4   4 GB RAM, 128 GB inbuilt  6000 mAh Battery with 45W Fast Charging   \n",
       "\n",
       "                                             display  \\\n",
       "0  6.83 inches, 1272 x 2800 px, 120 Hz Display wi...   \n",
       "1  6.59 inches, 1256 x 2760 px, 120 Hz Display wi...   \n",
       "2  6.83 inches, 1280 x 2772 px, 120 Hz Display wi...   \n",
       "3  6.31 inches, 1216 x 2640 px, 120 Hz Display wi...   \n",
       "4  6.67 inches, 720 x 1604 px, 120 Hz Display wit...   \n",
       "\n",
       "                                              camera  \\\n",
       "0  50 MP + 50 MP + 50 MP Triple Rear & 50 MP Fron...   \n",
       "1  50 MP + 50 MP + 8 MP Triple Rear & 50 MP Front...   \n",
       "2        50 MP + 8 MP Dual Rear & 20 MP Front Camera   \n",
       "3  50 MP + 50 MP + 8 MP Triple Rear & 50 MP Front...   \n",
       "4         50 MP + 2 MP Dual Rear & 8 MP Front Camera   \n",
       "\n",
       "                     memoryExternal      version           fm  \n",
       "0                               NaN  Android v15  No FM Radio  \n",
       "1                               NaN  Android v15  No FM Radio  \n",
       "2         Memory Card Not Supported  Android v15          NaN  \n",
       "3         Memory Card Not Supported  Android v15          NaN  \n",
       "4  Memory Card Supported, upto 2 TB  Android v15          NaN  "
      ]
     },
     "execution_count": 3,
     "metadata": {},
     "output_type": "execute_result"
    }
   ],
   "source": [
    "df.head()"
   ]
  },
  {
   "cell_type": "code",
   "execution_count": 4,
   "id": "a5ba8329",
   "metadata": {
    "execution": {
     "iopub.execute_input": "2025-07-15T10:51:41.432821Z",
     "iopub.status.busy": "2025-07-15T10:51:41.432538Z",
     "iopub.status.idle": "2025-07-15T10:51:41.439822Z",
     "shell.execute_reply": "2025-07-15T10:51:41.439067Z"
    },
    "papermill": {
     "duration": 0.016587,
     "end_time": "2025-07-15T10:51:41.441064",
     "exception": false,
     "start_time": "2025-07-15T10:51:41.424477",
     "status": "completed"
    },
    "tags": []
   },
   "outputs": [
    {
     "data": {
      "text/plain": [
       "Name                0\n",
       "Spec Score          0\n",
       "rating              0\n",
       "price               0\n",
       "img                 0\n",
       "tag                 0\n",
       "sim                 0\n",
       "processor          26\n",
       "storage            20\n",
       "battery             6\n",
       "display             1\n",
       "camera             11\n",
       "memoryExternal    351\n",
       "version            48\n",
       "fm                725\n",
       "dtype: int64"
      ]
     },
     "execution_count": 4,
     "metadata": {},
     "output_type": "execute_result"
    }
   ],
   "source": [
    "df.isnull().sum()"
   ]
  },
  {
   "cell_type": "code",
   "execution_count": 5,
   "id": "3477c4c0",
   "metadata": {
    "execution": {
     "iopub.execute_input": "2025-07-15T10:51:41.457297Z",
     "iopub.status.busy": "2025-07-15T10:51:41.456766Z",
     "iopub.status.idle": "2025-07-15T10:51:41.475768Z",
     "shell.execute_reply": "2025-07-15T10:51:41.475052Z"
    },
    "papermill": {
     "duration": 0.028225,
     "end_time": "2025-07-15T10:51:41.477026",
     "exception": false,
     "start_time": "2025-07-15T10:51:41.448801",
     "status": "completed"
    },
    "tags": []
   },
   "outputs": [
    {
     "data": {
      "text/html": [
       "<div>\n",
       "<style scoped>\n",
       "    .dataframe tbody tr th:only-of-type {\n",
       "        vertical-align: middle;\n",
       "    }\n",
       "\n",
       "    .dataframe tbody tr th {\n",
       "        vertical-align: top;\n",
       "    }\n",
       "\n",
       "    .dataframe thead th {\n",
       "        text-align: right;\n",
       "    }\n",
       "</style>\n",
       "<table border=\"1\" class=\"dataframe\">\n",
       "  <thead>\n",
       "    <tr style=\"text-align: right;\">\n",
       "      <th></th>\n",
       "      <th>Spec Score</th>\n",
       "      <th>rating</th>\n",
       "      <th>price</th>\n",
       "    </tr>\n",
       "  </thead>\n",
       "  <tbody>\n",
       "    <tr>\n",
       "      <th>count</th>\n",
       "      <td>1019.000000</td>\n",
       "      <td>1019.000000</td>\n",
       "      <td>1019.000000</td>\n",
       "    </tr>\n",
       "    <tr>\n",
       "      <th>mean</th>\n",
       "      <td>78.513248</td>\n",
       "      <td>4.377380</td>\n",
       "      <td>35006.714426</td>\n",
       "    </tr>\n",
       "    <tr>\n",
       "      <th>std</th>\n",
       "      <td>12.754081</td>\n",
       "      <td>0.234293</td>\n",
       "      <td>40671.714570</td>\n",
       "    </tr>\n",
       "    <tr>\n",
       "      <th>min</th>\n",
       "      <td>7.000000</td>\n",
       "      <td>3.450000</td>\n",
       "      <td>99.000000</td>\n",
       "    </tr>\n",
       "    <tr>\n",
       "      <th>25%</th>\n",
       "      <td>75.000000</td>\n",
       "      <td>4.150000</td>\n",
       "      <td>13999.000000</td>\n",
       "    </tr>\n",
       "    <tr>\n",
       "      <th>50%</th>\n",
       "      <td>81.000000</td>\n",
       "      <td>4.400000</td>\n",
       "      <td>23498.000000</td>\n",
       "    </tr>\n",
       "    <tr>\n",
       "      <th>75%</th>\n",
       "      <td>85.000000</td>\n",
       "      <td>4.600000</td>\n",
       "      <td>39990.000000</td>\n",
       "    </tr>\n",
       "    <tr>\n",
       "      <th>max</th>\n",
       "      <td>96.000000</td>\n",
       "      <td>4.750000</td>\n",
       "      <td>489990.000000</td>\n",
       "    </tr>\n",
       "  </tbody>\n",
       "</table>\n",
       "</div>"
      ],
      "text/plain": [
       "        Spec Score       rating          price\n",
       "count  1019.000000  1019.000000    1019.000000\n",
       "mean     78.513248     4.377380   35006.714426\n",
       "std      12.754081     0.234293   40671.714570\n",
       "min       7.000000     3.450000      99.000000\n",
       "25%      75.000000     4.150000   13999.000000\n",
       "50%      81.000000     4.400000   23498.000000\n",
       "75%      85.000000     4.600000   39990.000000\n",
       "max      96.000000     4.750000  489990.000000"
      ]
     },
     "execution_count": 5,
     "metadata": {},
     "output_type": "execute_result"
    }
   ],
   "source": [
    "df.describe()"
   ]
  },
  {
   "cell_type": "code",
   "execution_count": 6,
   "id": "31ffd27a",
   "metadata": {
    "execution": {
     "iopub.execute_input": "2025-07-15T10:51:41.493453Z",
     "iopub.status.busy": "2025-07-15T10:51:41.493176Z",
     "iopub.status.idle": "2025-07-15T10:51:41.500039Z",
     "shell.execute_reply": "2025-07-15T10:51:41.499309Z"
    },
    "papermill": {
     "duration": 0.016133,
     "end_time": "2025-07-15T10:51:41.501120",
     "exception": false,
     "start_time": "2025-07-15T10:51:41.484987",
     "status": "completed"
    },
    "tags": []
   },
   "outputs": [
    {
     "name": "stdout",
     "output_type": "stream",
     "text": [
      "\n",
      "Outliers (IQR method - List):\n",
      "[36, 29, 23, 58, 7, 9, 24, 55, 20, 32, 14, 59, 22, 56, 11, 57, 33, 16, 15, 21, 22, 20, 51, 48, 52, 16, 17, 13, 34, 55, 17, 30, 14, 13, 10, 16, 56, 47, 18, 12, 17, 15]\n"
     ]
    }
   ],
   "source": [
    "q1 = np.percentile(df['Spec Score'], 25)\n",
    "q3 = np.percentile(df['Spec Score'], 75)\n",
    "iqr = q3-q1\n",
    "lower_bound = q1 - 1.5 * iqr\n",
    "upper_bound = q3 + 1.5 * iqr\n",
    "\n",
    "outliers_list = [x for x in df['Spec Score'] if x < lower_bound or x > upper_bound]\n",
    "print(f\"\\nOutliers (IQR method - List):\\n{outliers_list}\")"
   ]
  },
  {
   "cell_type": "code",
   "execution_count": 7,
   "id": "8bc1e739",
   "metadata": {
    "execution": {
     "iopub.execute_input": "2025-07-15T10:51:41.516113Z",
     "iopub.status.busy": "2025-07-15T10:51:41.515641Z",
     "iopub.status.idle": "2025-07-15T10:51:41.520363Z",
     "shell.execute_reply": "2025-07-15T10:51:41.519707Z"
    },
    "papermill": {
     "duration": 0.013492,
     "end_time": "2025-07-15T10:51:41.521594",
     "exception": false,
     "start_time": "2025-07-15T10:51:41.508102",
     "status": "completed"
    },
    "tags": []
   },
   "outputs": [
    {
     "name": "stdout",
     "output_type": "stream",
     "text": [
      "['Spec Score', 'rating', 'price']\n"
     ]
    }
   ],
   "source": [
    "numeric_cols = df.select_dtypes(include=np.number).columns.tolist()\n",
    "print(numeric_cols)"
   ]
  },
  {
   "cell_type": "code",
   "execution_count": 8,
   "id": "bfec2171",
   "metadata": {
    "execution": {
     "iopub.execute_input": "2025-07-15T10:51:41.538310Z",
     "iopub.status.busy": "2025-07-15T10:51:41.538041Z",
     "iopub.status.idle": "2025-07-15T10:51:42.197854Z",
     "shell.execute_reply": "2025-07-15T10:51:42.197054Z"
    },
    "papermill": {
     "duration": 0.670103,
     "end_time": "2025-07-15T10:51:42.199780",
     "exception": false,
     "start_time": "2025-07-15T10:51:41.529677",
     "status": "completed"
    },
    "tags": []
   },
   "outputs": [
    {
     "data": {
      "image/png": "[encoded data removed]",
      "text/plain": [
       "<Figure size 2000x3000 with 3 Axes>"
      ]
     },
     "metadata": {},
     "output_type": "display_data"
    }
   ],
   "source": [
    "num_plots = len(numeric_cols)\n",
    "num_cols = 3\n",
    "num_rows = (num_plots+num_cols-1)\n",
    "\n",
    "plt.figure(figsize=(num_rows*4, num_cols *10))\n",
    "for i, col in enumerate(numeric_cols):\n",
    "    plt.subplot(num_rows, num_cols, i+1)\n",
    "    sns.boxplot(y=df[col])\n",
    "    plt.title(f'Outliers {col}')\n",
    "    plt.ylabel(col)\n",
    "    plt.grid(True, linestyle='--', alpha=0.7)\n",
    "\n",
    "plt.tight_layout()\n",
    "plt.show()"
   ]
  },
  {
   "cell_type": "code",
   "execution_count": 9,
   "id": "0452db0f",
   "metadata": {
    "execution": {
     "iopub.execute_input": "2025-07-15T10:51:42.218418Z",
     "iopub.status.busy": "2025-07-15T10:51:42.218098Z",
     "iopub.status.idle": "2025-07-15T10:51:42.247770Z",
     "shell.execute_reply": "2025-07-15T10:51:42.246977Z"
    },
    "papermill": {
     "duration": 0.040737,
     "end_time": "2025-07-15T10:51:42.249606",
     "exception": false,
     "start_time": "2025-07-15T10:51:42.208869",
     "status": "completed"
    },
    "tags": []
   },
   "outputs": [
    {
     "data": {
      "text/html": [
       "<div>\n",
       "<style scoped>\n",
       "    .dataframe tbody tr th:only-of-type {\n",
       "        vertical-align: middle;\n",
       "    }\n",
       "\n",
       "    .dataframe tbody tr th {\n",
       "        vertical-align: top;\n",
       "    }\n",
       "\n",
       "    .dataframe thead th {\n",
       "        text-align: right;\n",
       "    }\n",
       "</style>\n",
       "<table border=\"1\" class=\"dataframe\">\n",
       "  <thead>\n",
       "    <tr style=\"text-align: right;\">\n",
       "      <th></th>\n",
       "      <th>Name</th>\n",
       "      <th>Spec Score</th>\n",
       "      <th>rating</th>\n",
       "      <th>price</th>\n",
       "      <th>img</th>\n",
       "      <th>tag</th>\n",
       "      <th>sim</th>\n",
       "      <th>processor</th>\n",
       "      <th>storage</th>\n",
       "      <th>battery</th>\n",
       "      <th>display</th>\n",
       "      <th>camera</th>\n",
       "      <th>memoryExternal</th>\n",
       "      <th>version</th>\n",
       "      <th>fm</th>\n",
       "    </tr>\n",
       "  </thead>\n",
       "  <tbody>\n",
       "    <tr>\n",
       "      <th>327</th>\n",
       "      <td>Nokia 2780 Flip</td>\n",
       "      <td>36</td>\n",
       "      <td>4.25</td>\n",
       "      <td>4990</td>\n",
       "      <td>https://cdn1.smartprix.com/rx-iQaYZqnQU-w280-h...</td>\n",
       "      <td>UPCOMING</td>\n",
       "      <td>Dual Sim, 3G, 4G, Wi-Fi</td>\n",
       "      <td>Snapdragon QM215, Quad Core, 1.3 GHz Processor</td>\n",
       "      <td>512 MB RAM, 4 GB inbuilt</td>\n",
       "      <td>1450 mAh Battery</td>\n",
       "      <td>2.7 inches, 240 x 320 px Display</td>\n",
       "      <td>5 MP Rear Camera</td>\n",
       "      <td>Memory Card Supported, upto 32 GB</td>\n",
       "      <td>NaN</td>\n",
       "      <td>NaN</td>\n",
       "    </tr>\n",
       "    <tr>\n",
       "      <th>484</th>\n",
       "      <td>Namotel Achhe Din</td>\n",
       "      <td>29</td>\n",
       "      <td>4.00</td>\n",
       "      <td>99</td>\n",
       "      <td>https://cdn1.smartprix.com/rx-iZhKdbLfo-w280-h...</td>\n",
       "      <td>UPCOMING</td>\n",
       "      <td>Dual Sim, 3G, Wi-Fi</td>\n",
       "      <td>NaN</td>\n",
       "      <td>1 GB RAM, 4 GB inbuilt</td>\n",
       "      <td>1325 mAh Battery</td>\n",
       "      <td>4 inches, 720 x 1280 px Display</td>\n",
       "      <td>2 MP Rear &amp; 0.3 MP Front Camera</td>\n",
       "      <td>NaN</td>\n",
       "      <td>Android v5.0 (Lollipop)</td>\n",
       "      <td>NaN</td>\n",
       "    </tr>\n",
       "    <tr>\n",
       "      <th>507</th>\n",
       "      <td>Jio Bharat J1 4G</td>\n",
       "      <td>23</td>\n",
       "      <td>4.35</td>\n",
       "      <td>1799</td>\n",
       "      <td>https://cdn1.smartprix.com/rx-izjyzYtOX-w280-h...</td>\n",
       "      <td>LAUNCHED</td>\n",
       "      <td>Single Sim, 3G, 4G, VoLTE</td>\n",
       "      <td>NaN</td>\n",
       "      <td>512 MB RAM, 4 GB inbuilt</td>\n",
       "      <td>2500 mAh Battery</td>\n",
       "      <td>2.8 inches, 240 x 320 px Display</td>\n",
       "      <td>0.3 MP Rear Camera</td>\n",
       "      <td>Memory Card Supported, upto 128 GB</td>\n",
       "      <td>NaN</td>\n",
       "      <td>NaN</td>\n",
       "    </tr>\n",
       "    <tr>\n",
       "      <th>538</th>\n",
       "      <td>Lava Shark 5G</td>\n",
       "      <td>58</td>\n",
       "      <td>4.15</td>\n",
       "      <td>7999</td>\n",
       "      <td>https://cdn1.smartprix.com/rx-imcz8CJdN-w280-h...</td>\n",
       "      <td>LAUNCHED</td>\n",
       "      <td>Dual Sim, 3G, 4G, 5G, VoLTE, Wi-Fi</td>\n",
       "      <td>Unisoc T765, Octa Core Processor</td>\n",
       "      <td>4 GB RAM, 64 GB inbuilt</td>\n",
       "      <td>5000 mAh Battery with Fast Charging</td>\n",
       "      <td>6.75 inches, 720 x 1600 px, 90 Hz Display with...</td>\n",
       "      <td>13 MP Rear &amp; 5 MP Front Camera</td>\n",
       "      <td>Memory Card Supported, upto 1 TB</td>\n",
       "      <td>Android v15</td>\n",
       "      <td>NaN</td>\n",
       "    </tr>\n",
       "    <tr>\n",
       "      <th>540</th>\n",
       "      <td>BlackZone Crysto</td>\n",
       "      <td>7</td>\n",
       "      <td>4.10</td>\n",
       "      <td>1042</td>\n",
       "      <td>https://cdn1.smartprix.com/rx-iiKUJPl6y-w280-h...</td>\n",
       "      <td>LAUNCHED</td>\n",
       "      <td>Dual Sim</td>\n",
       "      <td>Single Core, 500 kHz Processor</td>\n",
       "      <td>NaN</td>\n",
       "      <td>1100 mAh Battery</td>\n",
       "      <td>1.8 inches, 128 x 160 px Display</td>\n",
       "      <td>NaN</td>\n",
       "      <td>NaN</td>\n",
       "      <td>NaN</td>\n",
       "      <td>NaN</td>\n",
       "    </tr>\n",
       "    <tr>\n",
       "      <th>542</th>\n",
       "      <td>Motorola Moto A200</td>\n",
       "      <td>9</td>\n",
       "      <td>4.05</td>\n",
       "      <td>1148</td>\n",
       "      <td>https://cdn1.smartprix.com/rx-i9YLxe5k6-w280-h...</td>\n",
       "      <td>LAUNCHED</td>\n",
       "      <td>Dual Sim</td>\n",
       "      <td>NaN</td>\n",
       "      <td>NaN</td>\n",
       "      <td>800 mAh Battery</td>\n",
       "      <td>1.77 inches, 128 x 160 px Display</td>\n",
       "      <td>NaN</td>\n",
       "      <td>Memory Card Supported, upto 64 GB</td>\n",
       "      <td>NaN</td>\n",
       "      <td>NaN</td>\n",
       "    </tr>\n",
       "    <tr>\n",
       "      <th>562</th>\n",
       "      <td>Jio JioPhone Prima 2 4G</td>\n",
       "      <td>24</td>\n",
       "      <td>4.35</td>\n",
       "      <td>2799</td>\n",
       "      <td>https://cdn1.smartprix.com/rx-iJj5yRFFd-w280-h...</td>\n",
       "      <td>LAUNCHED</td>\n",
       "      <td>Single Sim, 4G, VoLTE, Wi-Fi</td>\n",
       "      <td>NaN</td>\n",
       "      <td>512 MB RAM, 4 GB inbuilt</td>\n",
       "      <td>2000 mAh Battery</td>\n",
       "      <td>2.4 inches, 240 x 320 px Display</td>\n",
       "      <td>0.3 MP Rear &amp; 0.3 MP Front Camera</td>\n",
       "      <td>Memory Card Supported, upto 128 GB</td>\n",
       "      <td>KaiOS v2.5.3</td>\n",
       "      <td>NaN</td>\n",
       "    </tr>\n",
       "    <tr>\n",
       "      <th>565</th>\n",
       "      <td>Tecno POP 9 4G</td>\n",
       "      <td>55</td>\n",
       "      <td>4.50</td>\n",
       "      <td>5523</td>\n",
       "      <td>https://cdn1.smartprix.com/rx-ijgDd1Q30-w280-h...</td>\n",
       "      <td>LAUNCHED</td>\n",
       "      <td>Dual Sim, 3G, 4G, VoLTE, Wi-Fi, IR Blaster</td>\n",
       "      <td>Helio G50, Octa Core Processor</td>\n",
       "      <td>3 GB RAM, 64 GB inbuilt</td>\n",
       "      <td>5000 mAh Battery with Fast Charging</td>\n",
       "      <td>6.67 inches, 720 x 1600 px, 90 Hz Display with...</td>\n",
       "      <td>13 MP Rear &amp; Main Front Camera</td>\n",
       "      <td>Memory Card Supported, upto 1 TB</td>\n",
       "      <td>Android v14</td>\n",
       "      <td>NaN</td>\n",
       "    </tr>\n",
       "    <tr>\n",
       "      <th>578</th>\n",
       "      <td>Nokia 235 4G 2024</td>\n",
       "      <td>20</td>\n",
       "      <td>4.10</td>\n",
       "      <td>3569</td>\n",
       "      <td>https://cdn1.smartprix.com/rx-iNbOg55Wf-w280-h...</td>\n",
       "      <td>LAUNCHED</td>\n",
       "      <td>Dual Sim, 3G, 4G, VoLTE</td>\n",
       "      <td>Unisoc T107, 1 GHz Processor</td>\n",
       "      <td>NaN</td>\n",
       "      <td>1450 mAh Battery</td>\n",
       "      <td>2.8 inches, 240 x 320 px Display</td>\n",
       "      <td>2 MP Rear Camera</td>\n",
       "      <td>Memory Card Supported</td>\n",
       "      <td>NaN</td>\n",
       "      <td>NaN</td>\n",
       "    </tr>\n",
       "    <tr>\n",
       "      <th>604</th>\n",
       "      <td>Nokia 2720 V Flip</td>\n",
       "      <td>32</td>\n",
       "      <td>4.25</td>\n",
       "      <td>6199</td>\n",
       "      <td>https://cdn1.smartprix.com/rx-iulWfrmNi-w280-h...</td>\n",
       "      <td>UPCOMING</td>\n",
       "      <td>Dual Sim, 3G, 4G, VoLTE, Wi-Fi</td>\n",
       "      <td>Snapdragon 205 , Dual Core, 1.1 GHz Processor</td>\n",
       "      <td>512 MB RAM, 4 GB inbuilt</td>\n",
       "      <td>1500 mAh Battery</td>\n",
       "      <td>2.8 inches, 240 x 320 px Display</td>\n",
       "      <td>2 MP Rear Camera</td>\n",
       "      <td>Memory Card Supported</td>\n",
       "      <td>NaN</td>\n",
       "      <td>NaN</td>\n",
       "    </tr>\n",
       "    <tr>\n",
       "      <th>606</th>\n",
       "      <td>Samsung Metro 313</td>\n",
       "      <td>14</td>\n",
       "      <td>4.50</td>\n",
       "      <td>998</td>\n",
       "      <td>https://cdn1.smartprix.com/rx-i9QIzvAUP-w280-h...</td>\n",
       "      <td>LAUNCHED</td>\n",
       "      <td>Dual Sim</td>\n",
       "      <td>Single Core, 208 MHz Processor</td>\n",
       "      <td>NaN</td>\n",
       "      <td>1000 mAh Battery</td>\n",
       "      <td>2 inches, 320 x 240 px Display</td>\n",
       "      <td>0.3 MP Rear Camera</td>\n",
       "      <td>Memory Card Supported, upto 16 GB</td>\n",
       "      <td>v30</td>\n",
       "      <td>NaN</td>\n",
       "    </tr>\n",
       "    <tr>\n",
       "      <th>615</th>\n",
       "      <td>itel City 100</td>\n",
       "      <td>59</td>\n",
       "      <td>4.55</td>\n",
       "      <td>7799</td>\n",
       "      <td>https://cdn1.smartprix.com/rx-iW68YV2MY-w280-h...</td>\n",
       "      <td>UPCOMING</td>\n",
       "      <td>Dual Sim, 3G, 4G, VoLTE, Wi-Fi, IR Blaster</td>\n",
       "      <td>Unisoc T7250, Octa Core, 1.8 GHz Processor</td>\n",
       "      <td>4 GB RAM, 128 GB inbuilt</td>\n",
       "      <td>5200 mAh Battery with 18W Fast Charging</td>\n",
       "      <td>6.75 inches, 720 x 1600 px Display</td>\n",
       "      <td>13 MP Rear &amp; 8 MP Front Camera</td>\n",
       "      <td>Memory Card Supported</td>\n",
       "      <td>Android v14</td>\n",
       "      <td>NaN</td>\n",
       "    </tr>\n",
       "    <tr>\n",
       "      <th>630</th>\n",
       "      <td>Jio Bharat V4 4G</td>\n",
       "      <td>22</td>\n",
       "      <td>4.40</td>\n",
       "      <td>789</td>\n",
       "      <td>https://cdn1.smartprix.com/rx-ipZL0B8OX-w280-h...</td>\n",
       "      <td>LAUNCHED</td>\n",
       "      <td>Single Sim, 3G, 4G, VoLTE</td>\n",
       "      <td>NaN</td>\n",
       "      <td>512 MB RAM, 4 GB inbuilt</td>\n",
       "      <td>1000 mAh Battery</td>\n",
       "      <td>1.77 inches, 240 x 320 px Display</td>\n",
       "      <td>0.3 MP Rear Camera</td>\n",
       "      <td>Memory Card Supported, upto 128 GB</td>\n",
       "      <td>NaN</td>\n",
       "      <td>NaN</td>\n",
       "    </tr>\n",
       "    <tr>\n",
       "      <th>641</th>\n",
       "      <td>OPPO A3x 4G</td>\n",
       "      <td>56</td>\n",
       "      <td>4.15</td>\n",
       "      <td>7505</td>\n",
       "      <td>https://cdn1.smartprix.com/rx-i04XfSeVK-w280-h...</td>\n",
       "      <td>LAUNCHED</td>\n",
       "      <td>Dual Sim, 3G, 4G, VoLTE, Wi-Fi</td>\n",
       "      <td>Snapdragon 6s Gen1 4G, Octa Core Processor</td>\n",
       "      <td>4 GB RAM, 64 GB inbuilt</td>\n",
       "      <td>5100 mAh Battery with 45W Fast Charging</td>\n",
       "      <td>6.67 inches, 720 x 1604 px, 90 Hz Display with...</td>\n",
       "      <td>8 MP Dual Rear &amp; 5 MP Front Camera</td>\n",
       "      <td>Memory Card (Hybrid)</td>\n",
       "      <td>Android v14</td>\n",
       "      <td>NaN</td>\n",
       "    </tr>\n",
       "    <tr>\n",
       "      <th>681</th>\n",
       "      <td>Samsung Guru Music 2 Dual Sim</td>\n",
       "      <td>11</td>\n",
       "      <td>4.50</td>\n",
       "      <td>947</td>\n",
       "      <td>https://cdn1.smartprix.com/rx-iprrtYYqo-w280-h...</td>\n",
       "      <td>LAUNCHED</td>\n",
       "      <td>Dual Sim</td>\n",
       "      <td>Single Core, 208 MHz Processor</td>\n",
       "      <td>NaN</td>\n",
       "      <td>800 mAh Battery</td>\n",
       "      <td>2 inches, 128 x 160 px Display</td>\n",
       "      <td>NaN</td>\n",
       "      <td>Memory Card Supported, upto 16 GB</td>\n",
       "      <td>NaN</td>\n",
       "      <td>NaN</td>\n",
       "    </tr>\n",
       "    <tr>\n",
       "      <th>685</th>\n",
       "      <td>Lava Bold N1</td>\n",
       "      <td>57</td>\n",
       "      <td>4.45</td>\n",
       "      <td>5999</td>\n",
       "      <td>https://cdn1.smartprix.com/rx-i4I4btWfd-w280-h...</td>\n",
       "      <td>LAUNCHED</td>\n",
       "      <td>Dual Sim, 3G, 4G, VoLTE, Wi-Fi</td>\n",
       "      <td>Unisoc 9863A, Octa Core Processor</td>\n",
       "      <td>4 GB RAM, 64 GB inbuilt</td>\n",
       "      <td>5000 mAh Battery with 10W Fast Charging</td>\n",
       "      <td>6.75 inches, 1600 x 720 px Display with Water ...</td>\n",
       "      <td>13 MP Dual Rear &amp; 5 MP Front Camera</td>\n",
       "      <td>Memory Card Supported, upto 256 GB</td>\n",
       "      <td>Android v14</td>\n",
       "      <td>NaN</td>\n",
       "    </tr>\n",
       "    <tr>\n",
       "      <th>691</th>\n",
       "      <td>iKall I7 4G</td>\n",
       "      <td>33</td>\n",
       "      <td>4.35</td>\n",
       "      <td>1222</td>\n",
       "      <td>https://cdn1.smartprix.com/rx-iEPcVE86H-w280-h...</td>\n",
       "      <td>LAUNCHED</td>\n",
       "      <td>Dual Sim, 3G, 4G, Wi-Fi</td>\n",
       "      <td>512 MHz Processor</td>\n",
       "      <td>2 GB RAM, 16 GB inbuilt</td>\n",
       "      <td>2000 mAh Battery</td>\n",
       "      <td>2.4 inches, 240 x 320 px Display</td>\n",
       "      <td>0.3 MP Rear Camera</td>\n",
       "      <td>Memory Card Supported</td>\n",
       "      <td>NaN</td>\n",
       "      <td>NaN</td>\n",
       "    </tr>\n",
       "    <tr>\n",
       "      <th>701</th>\n",
       "      <td>Nokia 150 Music (2025)</td>\n",
       "      <td>16</td>\n",
       "      <td>4.00</td>\n",
       "      <td>2399</td>\n",
       "      <td>https://cdn1.smartprix.com/rx-i7FCFot1I-w280-h...</td>\n",
       "      <td>LAUNCHED</td>\n",
       "      <td>Dual Sim</td>\n",
       "      <td>NaN</td>\n",
       "      <td>NaN</td>\n",
       "      <td>2500 mAh Battery</td>\n",
       "      <td>2.4 inches, 240 x 320 px Display</td>\n",
       "      <td>NaN</td>\n",
       "      <td>Memory Card Supported, upto 32 GB</td>\n",
       "      <td>NaN</td>\n",
       "      <td>NaN</td>\n",
       "    </tr>\n",
       "    <tr>\n",
       "      <th>734</th>\n",
       "      <td>Jio Bharat B2</td>\n",
       "      <td>15</td>\n",
       "      <td>4.65</td>\n",
       "      <td>1399</td>\n",
       "      <td>https://cdn1.smartprix.com/rx-i2tjOmknU-w280-h...</td>\n",
       "      <td>LAUNCHED</td>\n",
       "      <td>Single Sim, 4G, VoLTE</td>\n",
       "      <td>1 MHz Processor</td>\n",
       "      <td>NaN</td>\n",
       "      <td>2000 mAh Battery</td>\n",
       "      <td>2.4 inches, 240 x 320 px Display</td>\n",
       "      <td>0.3 MP Rear Camera</td>\n",
       "      <td>Memory Card Supported, upto 128 GB</td>\n",
       "      <td>NaN</td>\n",
       "      <td>NaN</td>\n",
       "    </tr>\n",
       "    <tr>\n",
       "      <th>763</th>\n",
       "      <td>Jio Bharat K1 Karbonn</td>\n",
       "      <td>21</td>\n",
       "      <td>4.40</td>\n",
       "      <td>699</td>\n",
       "      <td>https://cdn1.smartprix.com/rx-i4iNNgCwo-w280-h...</td>\n",
       "      <td>LAUNCHED</td>\n",
       "      <td>Single Sim, 3G, 4G, VoLTE</td>\n",
       "      <td>NaN</td>\n",
       "      <td>512 MB RAM, 4 GB inbuilt</td>\n",
       "      <td>1000 mAh Battery</td>\n",
       "      <td>1.77 inches, 240 x 320 px Display</td>\n",
       "      <td>0.3 MP Rear Camera</td>\n",
       "      <td>Memory Card Supported, upto 128 GB</td>\n",
       "      <td>NaN</td>\n",
       "      <td>NaN</td>\n",
       "    </tr>\n",
       "    <tr>\n",
       "      <th>764</th>\n",
       "      <td>Jio Bharat V2</td>\n",
       "      <td>22</td>\n",
       "      <td>4.50</td>\n",
       "      <td>939</td>\n",
       "      <td>https://cdn1.smartprix.com/rx-i8u5ZnBSf-w280-h...</td>\n",
       "      <td>LAUNCHED</td>\n",
       "      <td>Single Sim, 3G, 4G, VoLTE</td>\n",
       "      <td>NaN</td>\n",
       "      <td>512 MB RAM, 4 GB inbuilt</td>\n",
       "      <td>1000 mAh Battery</td>\n",
       "      <td>1.77 inches, 240 x 320 px Display</td>\n",
       "      <td>0.3 MP Rear Camera</td>\n",
       "      <td>Memory Card Supported, upto 128 GB</td>\n",
       "      <td>NaN</td>\n",
       "      <td>NaN</td>\n",
       "    </tr>\n",
       "    <tr>\n",
       "      <th>776</th>\n",
       "      <td>Nokia 2660 Flip</td>\n",
       "      <td>20</td>\n",
       "      <td>4.25</td>\n",
       "      <td>4399</td>\n",
       "      <td>https://cdn1.smartprix.com/rx-i9dO4FZI9-w280-h...</td>\n",
       "      <td>LAUNCHED</td>\n",
       "      <td>Dual Sim, 3G, 4G</td>\n",
       "      <td>NaN</td>\n",
       "      <td>NaN</td>\n",
       "      <td>1450 mAh Battery</td>\n",
       "      <td>2.8 inches, 240 x 320 px Display</td>\n",
       "      <td>0.3 MP Rear Camera</td>\n",
       "      <td>NaN</td>\n",
       "      <td>NaN</td>\n",
       "      <td>NaN</td>\n",
       "    </tr>\n",
       "    <tr>\n",
       "      <th>795</th>\n",
       "      <td>itel S16</td>\n",
       "      <td>51</td>\n",
       "      <td>4.55</td>\n",
       "      <td>5990</td>\n",
       "      <td>https://cdn1.smartprix.com/rx-isYHuO4A8-w280-h...</td>\n",
       "      <td>UPCOMING</td>\n",
       "      <td>Dual Sim, 3G, 4G, VoLTE, Wi-Fi</td>\n",
       "      <td>Unisoc SC7731E, Quad Core, 1.3 GHz Processor</td>\n",
       "      <td>1 GB RAM, 16 GB inbuilt</td>\n",
       "      <td>4000 mAh Battery</td>\n",
       "      <td>6.5 inches, 1600 x 720 px Display with Water D...</td>\n",
       "      <td>8 MP + 2 MP + 0.3 MP Triple Rear &amp; 8 MP Front ...</td>\n",
       "      <td>Memory Card Supported, upto 32 GB</td>\n",
       "      <td>Android v10</td>\n",
       "      <td>NaN</td>\n",
       "    </tr>\n",
       "    <tr>\n",
       "      <th>800</th>\n",
       "      <td>Jio Phone 3</td>\n",
       "      <td>48</td>\n",
       "      <td>4.15</td>\n",
       "      <td>4499</td>\n",
       "      <td>https://cdn1.smartprix.com/rx-iHSPrU3GC-w280-h...</td>\n",
       "      <td>UPCOMING</td>\n",
       "      <td>Dual Sim, 3G, 4G, VoLTE, Wi-Fi</td>\n",
       "      <td>Quad Core, 1.4 GHz Processor</td>\n",
       "      <td>2 GB RAM, 64 GB inbuilt</td>\n",
       "      <td>2800 mAh Battery</td>\n",
       "      <td>5 inches, 720 x 1280 px Display</td>\n",
       "      <td>5 MP Rear &amp; 2 MP Front Camera</td>\n",
       "      <td>Memory Card Supported, upto 128 GB</td>\n",
       "      <td>Android v8.1 (Oreo)</td>\n",
       "      <td>NaN</td>\n",
       "    </tr>\n",
       "    <tr>\n",
       "      <th>801</th>\n",
       "      <td>Bluefox NX1</td>\n",
       "      <td>52</td>\n",
       "      <td>4.30</td>\n",
       "      <td>6999</td>\n",
       "      <td>https://cdn1.smartprix.com/rx-itcA9cFSz-w280-h...</td>\n",
       "      <td>UPCOMING</td>\n",
       "      <td>Dual Sim, 3G, 4G, VoLTE, Wi-Fi</td>\n",
       "      <td>NaN</td>\n",
       "      <td>8 GB RAM, 128 GB inbuilt</td>\n",
       "      <td>3000 mAh Battery</td>\n",
       "      <td>4 inches, 540 x 1168 px Display</td>\n",
       "      <td>21 MP Rear &amp; 5 MP Front Camera</td>\n",
       "      <td>Memory Card Supported</td>\n",
       "      <td>Android v15</td>\n",
       "      <td>NaN</td>\n",
       "    </tr>\n",
       "    <tr>\n",
       "      <th>804</th>\n",
       "      <td>BlackZone DT 4G</td>\n",
       "      <td>16</td>\n",
       "      <td>4.05</td>\n",
       "      <td>1935</td>\n",
       "      <td>https://cdn1.smartprix.com/rx-iopAF6a3J-w280-h...</td>\n",
       "      <td>LAUNCHED</td>\n",
       "      <td>Dual Sim, 4G, VoLTE</td>\n",
       "      <td>Single Core, 1 GHz Processor</td>\n",
       "      <td>NaN</td>\n",
       "      <td>1100 mAh Battery with Fast Charging</td>\n",
       "      <td>1.8 inches Display</td>\n",
       "      <td>0.3 MP Rear Camera</td>\n",
       "      <td>Memory Card Supported, upto 48 GB</td>\n",
       "      <td>NaN</td>\n",
       "      <td>NaN</td>\n",
       "    </tr>\n",
       "    <tr>\n",
       "      <th>806</th>\n",
       "      <td>Gamma Shine 4G</td>\n",
       "      <td>17</td>\n",
       "      <td>4.00</td>\n",
       "      <td>1646</td>\n",
       "      <td>https://cdn1.smartprix.com/rx-i9zgtn2sj-w280-h...</td>\n",
       "      <td>LAUNCHED</td>\n",
       "      <td>Dual Sim, Wi-Fi</td>\n",
       "      <td>1 MHz Processor</td>\n",
       "      <td>NaN</td>\n",
       "      <td>2500 mAh Battery with Fast Charging</td>\n",
       "      <td>2.4 inches, 120 x 360 px Display</td>\n",
       "      <td>0.3 MP Rear Camera</td>\n",
       "      <td>Memory Card (Hybrid), upto 8 GB</td>\n",
       "      <td>NaN</td>\n",
       "      <td>NaN</td>\n",
       "    </tr>\n",
       "    <tr>\n",
       "      <th>820</th>\n",
       "      <td>Lava A5 2025</td>\n",
       "      <td>13</td>\n",
       "      <td>4.45</td>\n",
       "      <td>1192</td>\n",
       "      <td>https://cdn1.smartprix.com/rx-iQukN9yPg-w280-h...</td>\n",
       "      <td>LAUNCHED</td>\n",
       "      <td>Dual Sim</td>\n",
       "      <td>NaN</td>\n",
       "      <td>NaN</td>\n",
       "      <td>1200 mAh Battery</td>\n",
       "      <td>2.4 inches, 240 x 320 px Display</td>\n",
       "      <td>0.3 MP Rear Camera</td>\n",
       "      <td>Memory Card Supported, upto 32 GB</td>\n",
       "      <td>NaN</td>\n",
       "      <td>NaN</td>\n",
       "    </tr>\n",
       "    <tr>\n",
       "      <th>824</th>\n",
       "      <td>Snexian Bold T240</td>\n",
       "      <td>34</td>\n",
       "      <td>4.50</td>\n",
       "      <td>4399</td>\n",
       "      <td>https://cdn1.smartprix.com/rx-iNmnz03eb-w280-h...</td>\n",
       "      <td>LAUNCHED</td>\n",
       "      <td>Dual Sim, 3G, 4G, Wi-Fi</td>\n",
       "      <td>AMD, Quad Core, 512 MHz Processor</td>\n",
       "      <td>2 GB RAM, 16 GB inbuilt</td>\n",
       "      <td>2000 mAh Battery</td>\n",
       "      <td>3 inches, 384 x 216 px Display</td>\n",
       "      <td>5 MP Rear &amp; Main Front Camera</td>\n",
       "      <td>Memory Card (Hybrid)</td>\n",
       "      <td>Android v10</td>\n",
       "      <td>NaN</td>\n",
       "    </tr>\n",
       "    <tr>\n",
       "      <th>830</th>\n",
       "      <td>Lava O3 (3GB RAM + 64GB)</td>\n",
       "      <td>55</td>\n",
       "      <td>4.65</td>\n",
       "      <td>5799</td>\n",
       "      <td>https://cdn1.smartprix.com/rx-iggBFt3JS-w280-h...</td>\n",
       "      <td>LAUNCHED</td>\n",
       "      <td>Dual Sim, 3G, 4G, VoLTE, Wi-Fi</td>\n",
       "      <td>Octa Core Processor</td>\n",
       "      <td>3 GB RAM, 64 GB inbuilt</td>\n",
       "      <td>5000 mAh Battery with 10W Fast Charging</td>\n",
       "      <td>6.75 inches, 1600 x 720 px Display with Water ...</td>\n",
       "      <td>13 MP Dual Rear &amp; 5 MP Front Camera</td>\n",
       "      <td>Memory Card (Hybrid), upto 1 TB</td>\n",
       "      <td>Android v14</td>\n",
       "      <td>NaN</td>\n",
       "    </tr>\n",
       "    <tr>\n",
       "      <th>841</th>\n",
       "      <td>Nokia 110 4G 2024</td>\n",
       "      <td>17</td>\n",
       "      <td>4.05</td>\n",
       "      <td>2299</td>\n",
       "      <td>https://cdn1.smartprix.com/rx-iQX0Bsf40-w280-h...</td>\n",
       "      <td>UPCOMING</td>\n",
       "      <td>Dual Sim, 3G, 4G</td>\n",
       "      <td>NaN</td>\n",
       "      <td>NaN</td>\n",
       "      <td>1000 mAh Battery</td>\n",
       "      <td>2 inches, 240 x 320 px Display</td>\n",
       "      <td>NaN</td>\n",
       "      <td>Memory Card Supported</td>\n",
       "      <td>NaN</td>\n",
       "      <td>NaN</td>\n",
       "    </tr>\n",
       "    <tr>\n",
       "      <th>869</th>\n",
       "      <td>Light Phone 2</td>\n",
       "      <td>30</td>\n",
       "      <td>4.05</td>\n",
       "      <td>24990</td>\n",
       "      <td>https://cdn1.smartprix.com/rx-iBD2zFt9N-w280-h...</td>\n",
       "      <td>UPCOMING</td>\n",
       "      <td>Single Sim, 3G, 4G, VoLTE</td>\n",
       "      <td>Snapdragon 210, Quad Core, 1.1 GHz Processor</td>\n",
       "      <td>1 GB RAM, 8 GB inbuilt</td>\n",
       "      <td>950 mAh Battery</td>\n",
       "      <td>2.8 inches Display</td>\n",
       "      <td>NaN</td>\n",
       "      <td>NaN</td>\n",
       "      <td>NaN</td>\n",
       "      <td>No FM Radio</td>\n",
       "    </tr>\n",
       "    <tr>\n",
       "      <th>902</th>\n",
       "      <td>itel it5330</td>\n",
       "      <td>14</td>\n",
       "      <td>4.45</td>\n",
       "      <td>1349</td>\n",
       "      <td>https://cdn1.smartprix.com/rx-icuqZTvUd-w280-h...</td>\n",
       "      <td>LAUNCHED</td>\n",
       "      <td>Dual Sim</td>\n",
       "      <td>NaN</td>\n",
       "      <td>NaN</td>\n",
       "      <td>1900 mAh Battery</td>\n",
       "      <td>2.8 inches, 320 x 240 px Display</td>\n",
       "      <td>0.3 MP Rear Camera</td>\n",
       "      <td>Memory Card Supported, upto 32 GB</td>\n",
       "      <td>NaN</td>\n",
       "      <td>NaN</td>\n",
       "    </tr>\n",
       "    <tr>\n",
       "      <th>914</th>\n",
       "      <td>Nokia 130 Music 2023</td>\n",
       "      <td>13</td>\n",
       "      <td>4.20</td>\n",
       "      <td>1849</td>\n",
       "      <td>https://cdn1.smartprix.com/rx-iyTlDiQGp-w280-h...</td>\n",
       "      <td>LAUNCHED</td>\n",
       "      <td>Dual Sim</td>\n",
       "      <td>NaN</td>\n",
       "      <td>NaN</td>\n",
       "      <td>1450 mAh Battery</td>\n",
       "      <td>2.4 inches, 240 x 320 px Display</td>\n",
       "      <td>NaN</td>\n",
       "      <td>Memory Card Supported, upto 32 GB</td>\n",
       "      <td>v30</td>\n",
       "      <td>NaN</td>\n",
       "    </tr>\n",
       "    <tr>\n",
       "      <th>919</th>\n",
       "      <td>Nokia 105 Dual Sim 2023</td>\n",
       "      <td>10</td>\n",
       "      <td>4.75</td>\n",
       "      <td>1249</td>\n",
       "      <td>https://cdn1.smartprix.com/rx-ic3wTDSnL-w280-h...</td>\n",
       "      <td>LAUNCHED</td>\n",
       "      <td>Dual Sim</td>\n",
       "      <td>NaN</td>\n",
       "      <td>NaN</td>\n",
       "      <td>1000 mAh Battery</td>\n",
       "      <td>1.8 inches, 120 x 160 px Display</td>\n",
       "      <td>NaN</td>\n",
       "      <td>Memory Card Supported</td>\n",
       "      <td>NaN</td>\n",
       "      <td>NaN</td>\n",
       "    </tr>\n",
       "    <tr>\n",
       "      <th>926</th>\n",
       "      <td>Nokia 106 4G</td>\n",
       "      <td>16</td>\n",
       "      <td>4.20</td>\n",
       "      <td>2057</td>\n",
       "      <td>https://cdn1.smartprix.com/rx-iPXrFwzhK-w280-h...</td>\n",
       "      <td>LAUNCHED</td>\n",
       "      <td>Dual Sim, 3G, 4G, VoLTE</td>\n",
       "      <td>NaN</td>\n",
       "      <td>NaN</td>\n",
       "      <td>1450 mAh Battery</td>\n",
       "      <td>1.8 inches, 120 x 160 px Display</td>\n",
       "      <td>NaN</td>\n",
       "      <td>Memory Card Supported, upto 32 GB</td>\n",
       "      <td>NaN</td>\n",
       "      <td>NaN</td>\n",
       "    </tr>\n",
       "    <tr>\n",
       "      <th>964</th>\n",
       "      <td>itel S16 Pro</td>\n",
       "      <td>56</td>\n",
       "      <td>4.55</td>\n",
       "      <td>6990</td>\n",
       "      <td>https://cdn1.smartprix.com/rx-i8K1F0y5y-w280-h...</td>\n",
       "      <td>UPCOMING</td>\n",
       "      <td>Dual Sim, 3G, 4G, VoLTE, Wi-Fi</td>\n",
       "      <td>Quad Core, 1.3 GHz Processor</td>\n",
       "      <td>2 GB RAM, 32 GB inbuilt</td>\n",
       "      <td>4000 mAh Battery</td>\n",
       "      <td>6.6 inches, 1600 x 720 px Display with Punch Hole</td>\n",
       "      <td>8 MP + 2 MP + 0.3 MP Triple Rear &amp; 8 MP Front ...</td>\n",
       "      <td>Memory Card Supported, upto 32 GB</td>\n",
       "      <td>Android v10</td>\n",
       "      <td>NaN</td>\n",
       "    </tr>\n",
       "    <tr>\n",
       "      <th>965</th>\n",
       "      <td>itel P36</td>\n",
       "      <td>47</td>\n",
       "      <td>4.65</td>\n",
       "      <td>6490</td>\n",
       "      <td>https://cdn1.smartprix.com/rx-i0mP5ATQi-w280-h...</td>\n",
       "      <td>UPCOMING</td>\n",
       "      <td>Dual Sim, 3G, 4G, VoLTE, Wi-Fi</td>\n",
       "      <td>Spreadtrum  SC7731E, Quad Core, 1.3 GHz Processor</td>\n",
       "      <td>1 GB RAM, 16 GB inbuilt</td>\n",
       "      <td>5000 mAh Battery</td>\n",
       "      <td>6.5 inches, 1600 x 720 px Display with Water D...</td>\n",
       "      <td>8 MP + 0.3 MP Dual Rear &amp; 8 MP Front Camera</td>\n",
       "      <td>NaN</td>\n",
       "      <td>Android v9.0 (Pie)</td>\n",
       "      <td>NaN</td>\n",
       "    </tr>\n",
       "    <tr>\n",
       "      <th>966</th>\n",
       "      <td>Nokia 225 4G</td>\n",
       "      <td>18</td>\n",
       "      <td>4.35</td>\n",
       "      <td>2649</td>\n",
       "      <td>https://cdn1.smartprix.com/rx-i3vYfJ0gj-w280-h...</td>\n",
       "      <td>LAUNCHED</td>\n",
       "      <td>Dual Sim, 3G, 4G, VoLTE</td>\n",
       "      <td>NaN</td>\n",
       "      <td>NaN</td>\n",
       "      <td>1150 mAh Battery</td>\n",
       "      <td>2.4 inches, 240 x 320 px Display</td>\n",
       "      <td>0.3 MP Rear Camera</td>\n",
       "      <td>Memory Card Supported, upto 32 GB</td>\n",
       "      <td>NaN</td>\n",
       "      <td>NaN</td>\n",
       "    </tr>\n",
       "    <tr>\n",
       "      <th>994</th>\n",
       "      <td>Lava Gem Power 2025</td>\n",
       "      <td>12</td>\n",
       "      <td>4.10</td>\n",
       "      <td>1599</td>\n",
       "      <td>https://cdn1.smartprix.com/rx-izex486Io-w280-h...</td>\n",
       "      <td>LAUNCHED</td>\n",
       "      <td>Dual Sim</td>\n",
       "      <td>1.4 MHz Processor</td>\n",
       "      <td>NaN</td>\n",
       "      <td>2575 mAh Battery</td>\n",
       "      <td>2.8 inches, 245 x 320 px Display</td>\n",
       "      <td>0.3 MP Rear Camera</td>\n",
       "      <td>NaN</td>\n",
       "      <td>NaN</td>\n",
       "      <td>NaN</td>\n",
       "    </tr>\n",
       "    <tr>\n",
       "      <th>1002</th>\n",
       "      <td>Lava Action 4G</td>\n",
       "      <td>17</td>\n",
       "      <td>4.45</td>\n",
       "      <td>1774</td>\n",
       "      <td>https://cdn1.smartprix.com/rx-iYY7Ls8Yv-w280-h...</td>\n",
       "      <td>LAUNCHED</td>\n",
       "      <td>Dual Sim, 3G, 4G, VoLTE</td>\n",
       "      <td>NaN</td>\n",
       "      <td>NaN</td>\n",
       "      <td>1000 mAh Battery</td>\n",
       "      <td>1.8 inches, 240 x 260 px Display</td>\n",
       "      <td>0.3 MP Rear Camera</td>\n",
       "      <td>Memory Card Supported</td>\n",
       "      <td>NaN</td>\n",
       "      <td>NaN</td>\n",
       "    </tr>\n",
       "    <tr>\n",
       "      <th>1008</th>\n",
       "      <td>HMD 130 Music (2025)</td>\n",
       "      <td>15</td>\n",
       "      <td>4.55</td>\n",
       "      <td>1803</td>\n",
       "      <td>https://cdn1.smartprix.com/rx-iovKWWaTx-w280-h...</td>\n",
       "      <td>LAUNCHED</td>\n",
       "      <td>Dual Sim</td>\n",
       "      <td>NaN</td>\n",
       "      <td>NaN</td>\n",
       "      <td>2500 mAh Battery</td>\n",
       "      <td>2.4 inches, 240 x 320 px Display</td>\n",
       "      <td>NaN</td>\n",
       "      <td>Memory Card Supported, upto 32 GB</td>\n",
       "      <td>NaN</td>\n",
       "      <td>NaN</td>\n",
       "    </tr>\n",
       "  </tbody>\n",
       "</table>\n",
       "</div>"
      ],
      "text/plain": [
       "                               Name  Spec Score  rating  price  \\\n",
       "327                 Nokia 2780 Flip          36    4.25   4990   \n",
       "484               Namotel Achhe Din          29    4.00     99   \n",
       "507                Jio Bharat J1 4G          23    4.35   1799   \n",
       "538                   Lava Shark 5G          58    4.15   7999   \n",
       "540                BlackZone Crysto           7    4.10   1042   \n",
       "542              Motorola Moto A200           9    4.05   1148   \n",
       "562         Jio JioPhone Prima 2 4G          24    4.35   2799   \n",
       "565                  Tecno POP 9 4G          55    4.50   5523   \n",
       "578               Nokia 235 4G 2024          20    4.10   3569   \n",
       "604               Nokia 2720 V Flip          32    4.25   6199   \n",
       "606               Samsung Metro 313          14    4.50    998   \n",
       "615                   itel City 100          59    4.55   7799   \n",
       "630                Jio Bharat V4 4G          22    4.40    789   \n",
       "641                     OPPO A3x 4G          56    4.15   7505   \n",
       "681   Samsung Guru Music 2 Dual Sim          11    4.50    947   \n",
       "685                    Lava Bold N1          57    4.45   5999   \n",
       "691                     iKall I7 4G          33    4.35   1222   \n",
       "701          Nokia 150 Music (2025)          16    4.00   2399   \n",
       "734                   Jio Bharat B2          15    4.65   1399   \n",
       "763           Jio Bharat K1 Karbonn          21    4.40    699   \n",
       "764                   Jio Bharat V2          22    4.50    939   \n",
       "776                 Nokia 2660 Flip          20    4.25   4399   \n",
       "795                        itel S16          51    4.55   5990   \n",
       "800                     Jio Phone 3          48    4.15   4499   \n",
       "801                     Bluefox NX1          52    4.30   6999   \n",
       "804                 BlackZone DT 4G          16    4.05   1935   \n",
       "806                  Gamma Shine 4G          17    4.00   1646   \n",
       "820                    Lava A5 2025          13    4.45   1192   \n",
       "824               Snexian Bold T240          34    4.50   4399   \n",
       "830        Lava O3 (3GB RAM + 64GB)          55    4.65   5799   \n",
       "841               Nokia 110 4G 2024          17    4.05   2299   \n",
       "869                   Light Phone 2          30    4.05  24990   \n",
       "902                     itel it5330          14    4.45   1349   \n",
       "914            Nokia 130 Music 2023          13    4.20   1849   \n",
       "919         Nokia 105 Dual Sim 2023          10    4.75   1249   \n",
       "926                    Nokia 106 4G          16    4.20   2057   \n",
       "964                    itel S16 Pro          56    4.55   6990   \n",
       "965                        itel P36          47    4.65   6490   \n",
       "966                    Nokia 225 4G          18    4.35   2649   \n",
       "994             Lava Gem Power 2025          12    4.10   1599   \n",
       "1002                 Lava Action 4G          17    4.45   1774   \n",
       "1008           HMD 130 Music (2025)          15    4.55   1803   \n",
       "\n",
       "                                                    img       tag  \\\n",
       "327   https://cdn1.smartprix.com/rx-iQaYZqnQU-w280-h...  UPCOMING   \n",
       "484   https://cdn1.smartprix.com/rx-iZhKdbLfo-w280-h...  UPCOMING   \n",
       "507   https://cdn1.smartprix.com/rx-izjyzYtOX-w280-h...  LAUNCHED   \n",
       "538   https://cdn1.smartprix.com/rx-imcz8CJdN-w280-h...  LAUNCHED   \n",
       "540   https://cdn1.smartprix.com/rx-iiKUJPl6y-w280-h...  LAUNCHED   \n",
       "542   https://cdn1.smartprix.com/rx-i9YLxe5k6-w280-h...  LAUNCHED   \n",
       "562   https://cdn1.smartprix.com/rx-iJj5yRFFd-w280-h...  LAUNCHED   \n",
       "565   https://cdn1.smartprix.com/rx-ijgDd1Q30-w280-h...  LAUNCHED   \n",
       "578   https://cdn1.smartprix.com/rx-iNbOg55Wf-w280-h...  LAUNCHED   \n",
       "604   https://cdn1.smartprix.com/rx-iulWfrmNi-w280-h...  UPCOMING   \n",
       "606   https://cdn1.smartprix.com/rx-i9QIzvAUP-w280-h...  LAUNCHED   \n",
       "615   https://cdn1.smartprix.com/rx-iW68YV2MY-w280-h...  UPCOMING   \n",
       "630   https://cdn1.smartprix.com/rx-ipZL0B8OX-w280-h...  LAUNCHED   \n",
       "641   https://cdn1.smartprix.com/rx-i04XfSeVK-w280-h...  LAUNCHED   \n",
       "681   https://cdn1.smartprix.com/rx-iprrtYYqo-w280-h...  LAUNCHED   \n",
       "685   https://cdn1.smartprix.com/rx-i4I4btWfd-w280-h...  LAUNCHED   \n",
       "691   https://cdn1.smartprix.com/rx-iEPcVE86H-w280-h...  LAUNCHED   \n",
       "701   https://cdn1.smartprix.com/rx-i7FCFot1I-w280-h...  LAUNCHED   \n",
       "734   https://cdn1.smartprix.com/rx-i2tjOmknU-w280-h...  LAUNCHED   \n",
       "763   https://cdn1.smartprix.com/rx-i4iNNgCwo-w280-h...  LAUNCHED   \n",
       "764   https://cdn1.smartprix.com/rx-i8u5ZnBSf-w280-h...  LAUNCHED   \n",
       "776   https://cdn1.smartprix.com/rx-i9dO4FZI9-w280-h...  LAUNCHED   \n",
       "795   https://cdn1.smartprix.com/rx-isYHuO4A8-w280-h...  UPCOMING   \n",
       "800   https://cdn1.smartprix.com/rx-iHSPrU3GC-w280-h...  UPCOMING   \n",
       "801   https://cdn1.smartprix.com/rx-itcA9cFSz-w280-h...  UPCOMING   \n",
       "804   https://cdn1.smartprix.com/rx-iopAF6a3J-w280-h...  LAUNCHED   \n",
       "806   https://cdn1.smartprix.com/rx-i9zgtn2sj-w280-h...  LAUNCHED   \n",
       "820   https://cdn1.smartprix.com/rx-iQukN9yPg-w280-h...  LAUNCHED   \n",
       "824   https://cdn1.smartprix.com/rx-iNmnz03eb-w280-h...  LAUNCHED   \n",
       "830   https://cdn1.smartprix.com/rx-iggBFt3JS-w280-h...  LAUNCHED   \n",
       "841   https://cdn1.smartprix.com/rx-iQX0Bsf40-w280-h...  UPCOMING   \n",
       "869   https://cdn1.smartprix.com/rx-iBD2zFt9N-w280-h...  UPCOMING   \n",
       "902   https://cdn1.smartprix.com/rx-icuqZTvUd-w280-h...  LAUNCHED   \n",
       "914   https://cdn1.smartprix.com/rx-iyTlDiQGp-w280-h...  LAUNCHED   \n",
       "919   https://cdn1.smartprix.com/rx-ic3wTDSnL-w280-h...  LAUNCHED   \n",
       "926   https://cdn1.smartprix.com/rx-iPXrFwzhK-w280-h...  LAUNCHED   \n",
       "964   https://cdn1.smartprix.com/rx-i8K1F0y5y-w280-h...  UPCOMING   \n",
       "965   https://cdn1.smartprix.com/rx-i0mP5ATQi-w280-h...  UPCOMING   \n",
       "966   https://cdn1.smartprix.com/rx-i3vYfJ0gj-w280-h...  LAUNCHED   \n",
       "994   https://cdn1.smartprix.com/rx-izex486Io-w280-h...  LAUNCHED   \n",
       "1002  https://cdn1.smartprix.com/rx-iYY7Ls8Yv-w280-h...  LAUNCHED   \n",
       "1008  https://cdn1.smartprix.com/rx-iovKWWaTx-w280-h...  LAUNCHED   \n",
       "\n",
       "                                             sim  \\\n",
       "327                      Dual Sim, 3G, 4G, Wi-Fi   \n",
       "484                          Dual Sim, 3G, Wi-Fi   \n",
       "507                    Single Sim, 3G, 4G, VoLTE   \n",
       "538           Dual Sim, 3G, 4G, 5G, VoLTE, Wi-Fi   \n",
       "540                                     Dual Sim   \n",
       "542                                     Dual Sim   \n",
       "562                 Single Sim, 4G, VoLTE, Wi-Fi   \n",
       "565   Dual Sim, 3G, 4G, VoLTE, Wi-Fi, IR Blaster   \n",
       "578                      Dual Sim, 3G, 4G, VoLTE   \n",
       "604               Dual Sim, 3G, 4G, VoLTE, Wi-Fi   \n",
       "606                                     Dual Sim   \n",
       "615   Dual Sim, 3G, 4G, VoLTE, Wi-Fi, IR Blaster   \n",
       "630                    Single Sim, 3G, 4G, VoLTE   \n",
       "641               Dual Sim, 3G, 4G, VoLTE, Wi-Fi   \n",
       "681                                     Dual Sim   \n",
       "685               Dual Sim, 3G, 4G, VoLTE, Wi-Fi   \n",
       "691                      Dual Sim, 3G, 4G, Wi-Fi   \n",
       "701                                     Dual Sim   \n",
       "734                        Single Sim, 4G, VoLTE   \n",
       "763                    Single Sim, 3G, 4G, VoLTE   \n",
       "764                    Single Sim, 3G, 4G, VoLTE   \n",
       "776                             Dual Sim, 3G, 4G   \n",
       "795               Dual Sim, 3G, 4G, VoLTE, Wi-Fi   \n",
       "800               Dual Sim, 3G, 4G, VoLTE, Wi-Fi   \n",
       "801               Dual Sim, 3G, 4G, VoLTE, Wi-Fi   \n",
       "804                          Dual Sim, 4G, VoLTE   \n",
       "806                              Dual Sim, Wi-Fi   \n",
       "820                                     Dual Sim   \n",
       "824                      Dual Sim, 3G, 4G, Wi-Fi   \n",
       "830               Dual Sim, 3G, 4G, VoLTE, Wi-Fi   \n",
       "841                             Dual Sim, 3G, 4G   \n",
       "869                    Single Sim, 3G, 4G, VoLTE   \n",
       "902                                     Dual Sim   \n",
       "914                                     Dual Sim   \n",
       "919                                     Dual Sim   \n",
       "926                      Dual Sim, 3G, 4G, VoLTE   \n",
       "964               Dual Sim, 3G, 4G, VoLTE, Wi-Fi   \n",
       "965               Dual Sim, 3G, 4G, VoLTE, Wi-Fi   \n",
       "966                      Dual Sim, 3G, 4G, VoLTE   \n",
       "994                                     Dual Sim   \n",
       "1002                     Dual Sim, 3G, 4G, VoLTE   \n",
       "1008                                    Dual Sim   \n",
       "\n",
       "                                              processor  \\\n",
       "327      Snapdragon QM215, Quad Core, 1.3 GHz Processor   \n",
       "484                                                 NaN   \n",
       "507                                                 NaN   \n",
       "538                    Unisoc T765, Octa Core Processor   \n",
       "540                      Single Core, 500 kHz Processor   \n",
       "542                                                 NaN   \n",
       "562                                                 NaN   \n",
       "565                      Helio G50, Octa Core Processor   \n",
       "578                        Unisoc T107, 1 GHz Processor   \n",
       "604       Snapdragon 205 , Dual Core, 1.1 GHz Processor   \n",
       "606                      Single Core, 208 MHz Processor   \n",
       "615          Unisoc T7250, Octa Core, 1.8 GHz Processor   \n",
       "630                                                 NaN   \n",
       "641          Snapdragon 6s Gen1 4G, Octa Core Processor   \n",
       "681                      Single Core, 208 MHz Processor   \n",
       "685                   Unisoc 9863A, Octa Core Processor   \n",
       "691                                   512 MHz Processor   \n",
       "701                                                 NaN   \n",
       "734                                     1 MHz Processor   \n",
       "763                                                 NaN   \n",
       "764                                                 NaN   \n",
       "776                                                 NaN   \n",
       "795        Unisoc SC7731E, Quad Core, 1.3 GHz Processor   \n",
       "800                        Quad Core, 1.4 GHz Processor   \n",
       "801                                                 NaN   \n",
       "804                        Single Core, 1 GHz Processor   \n",
       "806                                     1 MHz Processor   \n",
       "820                                                 NaN   \n",
       "824                   AMD, Quad Core, 512 MHz Processor   \n",
       "830                                 Octa Core Processor   \n",
       "841                                                 NaN   \n",
       "869        Snapdragon 210, Quad Core, 1.1 GHz Processor   \n",
       "902                                                 NaN   \n",
       "914                                                 NaN   \n",
       "919                                                 NaN   \n",
       "926                                                 NaN   \n",
       "964                        Quad Core, 1.3 GHz Processor   \n",
       "965   Spreadtrum  SC7731E, Quad Core, 1.3 GHz Processor   \n",
       "966                                                 NaN   \n",
       "994                                   1.4 MHz Processor   \n",
       "1002                                                NaN   \n",
       "1008                                                NaN   \n",
       "\n",
       "                       storage                                  battery  \\\n",
       "327   512 MB RAM, 4 GB inbuilt                         1450 mAh Battery   \n",
       "484     1 GB RAM, 4 GB inbuilt                         1325 mAh Battery   \n",
       "507   512 MB RAM, 4 GB inbuilt                         2500 mAh Battery   \n",
       "538    4 GB RAM, 64 GB inbuilt      5000 mAh Battery with Fast Charging   \n",
       "540                        NaN                         1100 mAh Battery   \n",
       "542                        NaN                          800 mAh Battery   \n",
       "562   512 MB RAM, 4 GB inbuilt                         2000 mAh Battery   \n",
       "565    3 GB RAM, 64 GB inbuilt      5000 mAh Battery with Fast Charging   \n",
       "578                        NaN                         1450 mAh Battery   \n",
       "604   512 MB RAM, 4 GB inbuilt                         1500 mAh Battery   \n",
       "606                        NaN                         1000 mAh Battery   \n",
       "615   4 GB RAM, 128 GB inbuilt  5200 mAh Battery with 18W Fast Charging   \n",
       "630   512 MB RAM, 4 GB inbuilt                         1000 mAh Battery   \n",
       "641    4 GB RAM, 64 GB inbuilt  5100 mAh Battery with 45W Fast Charging   \n",
       "681                        NaN                          800 mAh Battery   \n",
       "685    4 GB RAM, 64 GB inbuilt  5000 mAh Battery with 10W Fast Charging   \n",
       "691    2 GB RAM, 16 GB inbuilt                         2000 mAh Battery   \n",
       "701                        NaN                         2500 mAh Battery   \n",
       "734                        NaN                         2000 mAh Battery   \n",
       "763   512 MB RAM, 4 GB inbuilt                         1000 mAh Battery   \n",
       "764   512 MB RAM, 4 GB inbuilt                         1000 mAh Battery   \n",
       "776                        NaN                         1450 mAh Battery   \n",
       "795    1 GB RAM, 16 GB inbuilt                         4000 mAh Battery   \n",
       "800    2 GB RAM, 64 GB inbuilt                         2800 mAh Battery   \n",
       "801   8 GB RAM, 128 GB inbuilt                         3000 mAh Battery   \n",
       "804                        NaN      1100 mAh Battery with Fast Charging   \n",
       "806                        NaN      2500 mAh Battery with Fast Charging   \n",
       "820                        NaN                         1200 mAh Battery   \n",
       "824    2 GB RAM, 16 GB inbuilt                         2000 mAh Battery   \n",
       "830    3 GB RAM, 64 GB inbuilt  5000 mAh Battery with 10W Fast Charging   \n",
       "841                        NaN                         1000 mAh Battery   \n",
       "869     1 GB RAM, 8 GB inbuilt                          950 mAh Battery   \n",
       "902                        NaN                         1900 mAh Battery   \n",
       "914                        NaN                         1450 mAh Battery   \n",
       "919                        NaN                         1000 mAh Battery   \n",
       "926                        NaN                         1450 mAh Battery   \n",
       "964    2 GB RAM, 32 GB inbuilt                         4000 mAh Battery   \n",
       "965    1 GB RAM, 16 GB inbuilt                         5000 mAh Battery   \n",
       "966                        NaN                         1150 mAh Battery   \n",
       "994                        NaN                         2575 mAh Battery   \n",
       "1002                       NaN                         1000 mAh Battery   \n",
       "1008                       NaN                         2500 mAh Battery   \n",
       "\n",
       "                                                display  \\\n",
       "327                    2.7 inches, 240 x 320 px Display   \n",
       "484                     4 inches, 720 x 1280 px Display   \n",
       "507                    2.8 inches, 240 x 320 px Display   \n",
       "538   6.75 inches, 720 x 1600 px, 90 Hz Display with...   \n",
       "540                    1.8 inches, 128 x 160 px Display   \n",
       "542                   1.77 inches, 128 x 160 px Display   \n",
       "562                    2.4 inches, 240 x 320 px Display   \n",
       "565   6.67 inches, 720 x 1600 px, 90 Hz Display with...   \n",
       "578                    2.8 inches, 240 x 320 px Display   \n",
       "604                    2.8 inches, 240 x 320 px Display   \n",
       "606                      2 inches, 320 x 240 px Display   \n",
       "615                  6.75 inches, 720 x 1600 px Display   \n",
       "630                   1.77 inches, 240 x 320 px Display   \n",
       "641   6.67 inches, 720 x 1604 px, 90 Hz Display with...   \n",
       "681                      2 inches, 128 x 160 px Display   \n",
       "685   6.75 inches, 1600 x 720 px Display with Water ...   \n",
       "691                    2.4 inches, 240 x 320 px Display   \n",
       "701                    2.4 inches, 240 x 320 px Display   \n",
       "734                    2.4 inches, 240 x 320 px Display   \n",
       "763                   1.77 inches, 240 x 320 px Display   \n",
       "764                   1.77 inches, 240 x 320 px Display   \n",
       "776                    2.8 inches, 240 x 320 px Display   \n",
       "795   6.5 inches, 1600 x 720 px Display with Water D...   \n",
       "800                     5 inches, 720 x 1280 px Display   \n",
       "801                     4 inches, 540 x 1168 px Display   \n",
       "804                                  1.8 inches Display   \n",
       "806                    2.4 inches, 120 x 360 px Display   \n",
       "820                    2.4 inches, 240 x 320 px Display   \n",
       "824                      3 inches, 384 x 216 px Display   \n",
       "830   6.75 inches, 1600 x 720 px Display with Water ...   \n",
       "841                      2 inches, 240 x 320 px Display   \n",
       "869                                  2.8 inches Display   \n",
       "902                    2.8 inches, 320 x 240 px Display   \n",
       "914                    2.4 inches, 240 x 320 px Display   \n",
       "919                    1.8 inches, 120 x 160 px Display   \n",
       "926                    1.8 inches, 120 x 160 px Display   \n",
       "964   6.6 inches, 1600 x 720 px Display with Punch Hole   \n",
       "965   6.5 inches, 1600 x 720 px Display with Water D...   \n",
       "966                    2.4 inches, 240 x 320 px Display   \n",
       "994                    2.8 inches, 245 x 320 px Display   \n",
       "1002                   1.8 inches, 240 x 260 px Display   \n",
       "1008                   2.4 inches, 240 x 320 px Display   \n",
       "\n",
       "                                                 camera  \\\n",
       "327                                    5 MP Rear Camera   \n",
       "484                     2 MP Rear & 0.3 MP Front Camera   \n",
       "507                                  0.3 MP Rear Camera   \n",
       "538                      13 MP Rear & 5 MP Front Camera   \n",
       "540                                                 NaN   \n",
       "542                                                 NaN   \n",
       "562                   0.3 MP Rear & 0.3 MP Front Camera   \n",
       "565                      13 MP Rear & Main Front Camera   \n",
       "578                                    2 MP Rear Camera   \n",
       "604                                    2 MP Rear Camera   \n",
       "606                                  0.3 MP Rear Camera   \n",
       "615                      13 MP Rear & 8 MP Front Camera   \n",
       "630                                  0.3 MP Rear Camera   \n",
       "641                  8 MP Dual Rear & 5 MP Front Camera   \n",
       "681                                                 NaN   \n",
       "685                 13 MP Dual Rear & 5 MP Front Camera   \n",
       "691                                  0.3 MP Rear Camera   \n",
       "701                                                 NaN   \n",
       "734                                  0.3 MP Rear Camera   \n",
       "763                                  0.3 MP Rear Camera   \n",
       "764                                  0.3 MP Rear Camera   \n",
       "776                                  0.3 MP Rear Camera   \n",
       "795   8 MP + 2 MP + 0.3 MP Triple Rear & 8 MP Front ...   \n",
       "800                       5 MP Rear & 2 MP Front Camera   \n",
       "801                      21 MP Rear & 5 MP Front Camera   \n",
       "804                                  0.3 MP Rear Camera   \n",
       "806                                  0.3 MP Rear Camera   \n",
       "820                                  0.3 MP Rear Camera   \n",
       "824                       5 MP Rear & Main Front Camera   \n",
       "830                 13 MP Dual Rear & 5 MP Front Camera   \n",
       "841                                                 NaN   \n",
       "869                                                 NaN   \n",
       "902                                  0.3 MP Rear Camera   \n",
       "914                                                 NaN   \n",
       "919                                                 NaN   \n",
       "926                                                 NaN   \n",
       "964   8 MP + 2 MP + 0.3 MP Triple Rear & 8 MP Front ...   \n",
       "965         8 MP + 0.3 MP Dual Rear & 8 MP Front Camera   \n",
       "966                                  0.3 MP Rear Camera   \n",
       "994                                  0.3 MP Rear Camera   \n",
       "1002                                 0.3 MP Rear Camera   \n",
       "1008                                                NaN   \n",
       "\n",
       "                          memoryExternal                  version           fm  \n",
       "327    Memory Card Supported, upto 32 GB                      NaN          NaN  \n",
       "484                                  NaN  Android v5.0 (Lollipop)          NaN  \n",
       "507   Memory Card Supported, upto 128 GB                      NaN          NaN  \n",
       "538     Memory Card Supported, upto 1 TB              Android v15          NaN  \n",
       "540                                  NaN                      NaN          NaN  \n",
       "542    Memory Card Supported, upto 64 GB                      NaN          NaN  \n",
       "562   Memory Card Supported, upto 128 GB             KaiOS v2.5.3          NaN  \n",
       "565     Memory Card Supported, upto 1 TB              Android v14          NaN  \n",
       "578                Memory Card Supported                      NaN          NaN  \n",
       "604                Memory Card Supported                      NaN          NaN  \n",
       "606    Memory Card Supported, upto 16 GB                      v30          NaN  \n",
       "615                Memory Card Supported              Android v14          NaN  \n",
       "630   Memory Card Supported, upto 128 GB                      NaN          NaN  \n",
       "641                 Memory Card (Hybrid)              Android v14          NaN  \n",
       "681    Memory Card Supported, upto 16 GB                      NaN          NaN  \n",
       "685   Memory Card Supported, upto 256 GB              Android v14          NaN  \n",
       "691                Memory Card Supported                      NaN          NaN  \n",
       "701    Memory Card Supported, upto 32 GB                      NaN          NaN  \n",
       "734   Memory Card Supported, upto 128 GB                      NaN          NaN  \n",
       "763   Memory Card Supported, upto 128 GB                      NaN          NaN  \n",
       "764   Memory Card Supported, upto 128 GB                      NaN          NaN  \n",
       "776                                  NaN                      NaN          NaN  \n",
       "795    Memory Card Supported, upto 32 GB              Android v10          NaN  \n",
       "800   Memory Card Supported, upto 128 GB      Android v8.1 (Oreo)          NaN  \n",
       "801                Memory Card Supported              Android v15          NaN  \n",
       "804    Memory Card Supported, upto 48 GB                      NaN          NaN  \n",
       "806      Memory Card (Hybrid), upto 8 GB                      NaN          NaN  \n",
       "820    Memory Card Supported, upto 32 GB                      NaN          NaN  \n",
       "824                 Memory Card (Hybrid)              Android v10          NaN  \n",
       "830      Memory Card (Hybrid), upto 1 TB              Android v14          NaN  \n",
       "841                Memory Card Supported                      NaN          NaN  \n",
       "869                                  NaN                      NaN  No FM Radio  \n",
       "902    Memory Card Supported, upto 32 GB                      NaN          NaN  \n",
       "914    Memory Card Supported, upto 32 GB                      v30          NaN  \n",
       "919                Memory Card Supported                      NaN          NaN  \n",
       "926    Memory Card Supported, upto 32 GB                      NaN          NaN  \n",
       "964    Memory Card Supported, upto 32 GB              Android v10          NaN  \n",
       "965                                  NaN       Android v9.0 (Pie)          NaN  \n",
       "966    Memory Card Supported, upto 32 GB                      NaN          NaN  \n",
       "994                                  NaN                      NaN          NaN  \n",
       "1002               Memory Card Supported                      NaN          NaN  \n",
       "1008   Memory Card Supported, upto 32 GB                      NaN          NaN  "
      ]
     },
     "execution_count": 9,
     "metadata": {},
     "output_type": "execute_result"
    }
   ],
   "source": [
    "df[df['Spec Score'].isin(outliers_list)]"
   ]
  },
  {
   "cell_type": "code",
   "execution_count": 10,
   "id": "be8e3f3f",
   "metadata": {
    "execution": {
     "iopub.execute_input": "2025-07-15T10:51:42.271773Z",
     "iopub.status.busy": "2025-07-15T10:51:42.271518Z",
     "iopub.status.idle": "2025-07-15T10:51:42.276138Z",
     "shell.execute_reply": "2025-07-15T10:51:42.275284Z"
    },
    "papermill": {
     "duration": 0.016975,
     "end_time": "2025-07-15T10:51:42.277395",
     "exception": false,
     "start_time": "2025-07-15T10:51:42.260420",
     "status": "completed"
    },
    "tags": []
   },
   "outputs": [
    {
     "name": "stdout",
     "output_type": "stream",
     "text": [
      "Upper Bound: 100.0\n",
      "Lower Bound: 60.0\n",
      "IQR: 10.0\n",
      "Quartile 1: 75.0\n",
      "Quartile 3: 85.0\n"
     ]
    }
   ],
   "source": [
    "print(f'Upper Bound: {upper_bound}')\n",
    "print(f'Lower Bound: {lower_bound}')\n",
    "print(f'IQR: {iqr}')\n",
    "print(f'Quartile 1: {q1}')\n",
    "print(f'Quartile 3: {q3}')"
   ]
  },
  {
   "cell_type": "code",
   "execution_count": 11,
   "id": "35b7c94d",
   "metadata": {
    "execution": {
     "iopub.execute_input": "2025-07-15T10:51:42.297119Z",
     "iopub.status.busy": "2025-07-15T10:51:42.296870Z",
     "iopub.status.idle": "2025-07-15T10:51:42.301420Z",
     "shell.execute_reply": "2025-07-15T10:51:42.300876Z"
    },
    "papermill": {
     "duration": 0.015922,
     "end_time": "2025-07-15T10:51:42.302629",
     "exception": false,
     "start_time": "2025-07-15T10:51:42.286707",
     "status": "completed"
    },
    "tags": []
   },
   "outputs": [],
   "source": [
    "df['Spec Score'] = np.where(df['Spec Score'] < lower_bound, lower_bound, df['Spec Score'])"
   ]
  },
  {
   "cell_type": "code",
   "execution_count": 12,
   "id": "21fd74cc",
   "metadata": {
    "execution": {
     "iopub.execute_input": "2025-07-15T10:51:42.322221Z",
     "iopub.status.busy": "2025-07-15T10:51:42.321561Z",
     "iopub.status.idle": "2025-07-15T10:51:42.497073Z",
     "shell.execute_reply": "2025-07-15T10:51:42.496115Z"
    },
    "papermill": {
     "duration": 0.18701,
     "end_time": "2025-07-15T10:51:42.498634",
     "exception": false,
     "start_time": "2025-07-15T10:51:42.311624",
     "status": "completed"
    },
    "tags": []
   },
   "outputs": [
    {
     "data": {
      "image/png": "[encoded data removed]",
      "text/plain": [
       "<Figure size 800x600 with 1 Axes>"
      ]
     },
     "metadata": {},
     "output_type": "display_data"
    }
   ],
   "source": [
    "plt.figure(figsize=(8, 6))\n",
    "sns.boxplot(y=df['Spec Score'])\n",
    "plt.title('Spec Score Without Outliers')\n",
    "plt.ylabel('Spec Score')\n",
    "plt.grid(True, linestyle='--', alpha=0.7)\n",
    "plt.show()"
   ]
  },
  {
   "cell_type": "code",
   "execution_count": 13,
   "id": "21aec25b",
   "metadata": {
    "execution": {
     "iopub.execute_input": "2025-07-15T10:51:42.526362Z",
     "iopub.status.busy": "2025-07-15T10:51:42.525691Z",
     "iopub.status.idle": "2025-07-15T10:51:42.534862Z",
     "shell.execute_reply": "2025-07-15T10:51:42.534135Z"
    },
    "papermill": {
     "duration": 0.026658,
     "end_time": "2025-07-15T10:51:42.535994",
     "exception": false,
     "start_time": "2025-07-15T10:51:42.509336",
     "status": "completed"
    },
    "tags": []
   },
   "outputs": [
    {
     "data": {
      "text/plain": [
       "Name                0\n",
       "Spec Score          0\n",
       "rating              0\n",
       "price               0\n",
       "img                 0\n",
       "tag                 0\n",
       "sim                 0\n",
       "processor          26\n",
       "storage            20\n",
       "battery             6\n",
       "display             1\n",
       "camera             11\n",
       "memoryExternal    351\n",
       "version            48\n",
       "fm                725\n",
       "dtype: int64"
      ]
     },
     "execution_count": 13,
     "metadata": {},
     "output_type": "execute_result"
    }
   ],
   "source": [
    "df.isnull().sum()"
   ]
  },
  {
   "cell_type": "code",
   "execution_count": 14,
   "id": "7c270dbd",
   "metadata": {
    "execution": {
     "iopub.execute_input": "2025-07-15T10:51:42.558037Z",
     "iopub.status.busy": "2025-07-15T10:51:42.557789Z",
     "iopub.status.idle": "2025-07-15T10:51:42.564720Z",
     "shell.execute_reply": "2025-07-15T10:51:42.563956Z"
    },
    "papermill": {
     "duration": 0.019455,
     "end_time": "2025-07-15T10:51:42.566027",
     "exception": false,
     "start_time": "2025-07-15T10:51:42.546572",
     "status": "completed"
    },
    "tags": []
   },
   "outputs": [],
   "source": [
    "df.drop(columns=['fm'], inplace=True)"
   ]
  },
  {
   "cell_type": "code",
   "execution_count": 15,
   "id": "b1617ab4",
   "metadata": {
    "execution": {
     "iopub.execute_input": "2025-07-15T10:51:42.646954Z",
     "iopub.status.busy": "2025-07-15T10:51:42.646212Z",
     "iopub.status.idle": "2025-07-15T10:51:42.658543Z",
     "shell.execute_reply": "2025-07-15T10:51:42.657744Z"
    },
    "papermill": {
     "duration": 0.082701,
     "end_time": "2025-07-15T10:51:42.660024",
     "exception": false,
     "start_time": "2025-07-15T10:51:42.577323",
     "status": "completed"
    },
    "tags": []
   },
   "outputs": [],
   "source": [
    "df['storage'] = df['storage'].fillna('Unknown')\n",
    "df['processor'] = df['processor'].fillna('Unknown')\n",
    "df['memoryExternal'] = df['memoryExternal'].fillna('Unknown')\n",
    "df['battery'] = df['battery'].fillna('Unknown') \n",
    "df['display'] = df['display'].fillna('Unknown')\n",
    "df['camera'] = df['camera'].fillna('Unknown')\n",
    "df['version'] = df['version'].fillna('Unknown') "
   ]
  },
  {
   "cell_type": "code",
   "execution_count": 16,
   "id": "138afb79",
   "metadata": {
    "execution": {
     "iopub.execute_input": "2025-07-15T10:51:42.686663Z",
     "iopub.status.busy": "2025-07-15T10:51:42.685972Z",
     "iopub.status.idle": "2025-07-15T10:51:42.697513Z",
     "shell.execute_reply": "2025-07-15T10:51:42.696793Z"
    },
    "papermill": {
     "duration": 0.027955,
     "end_time": "2025-07-15T10:51:42.698753",
     "exception": false,
     "start_time": "2025-07-15T10:51:42.670798",
     "status": "completed"
    },
    "tags": []
   },
   "outputs": [
    {
     "data": {
      "text/plain": [
       "Name              0\n",
       "Spec Score        0\n",
       "rating            0\n",
       "price             0\n",
       "img               0\n",
       "tag               0\n",
       "sim               0\n",
       "processor         0\n",
       "storage           0\n",
       "battery           0\n",
       "display           0\n",
       "camera            0\n",
       "memoryExternal    0\n",
       "version           0\n",
       "dtype: int64"
      ]
     },
     "execution_count": 16,
     "metadata": {},
     "output_type": "execute_result"
    }
   ],
   "source": [
    "df.isnull().sum()"
   ]
  },
  {
   "cell_type": "markdown",
   "id": "06ff2ff2",
   "metadata": {
    "papermill": {
     "duration": 0.011021,
     "end_time": "2025-07-15T10:51:42.720564",
     "exception": false,
     "start_time": "2025-07-15T10:51:42.709543",
     "status": "completed"
    },
    "tags": []
   },
   "source": [
    "## Exploratory Data Analysis"
   ]
  },
  {
   "cell_type": "markdown",
   "id": "d44cff85",
   "metadata": {
    "papermill": {
     "duration": 0.009969,
     "end_time": "2025-07-15T10:51:42.741050",
     "exception": false,
     "start_time": "2025-07-15T10:51:42.731081",
     "status": "completed"
    },
    "tags": []
   },
   "source": [
    "Since we're gonna do a prediction model, let's take a look for the correlation between each variable"
   ]
  },
  {
   "cell_type": "code",
   "execution_count": 17,
   "id": "2dfaddb2",
   "metadata": {
    "execution": {
     "iopub.execute_input": "2025-07-15T10:51:42.765035Z",
     "iopub.status.busy": "2025-07-15T10:51:42.764392Z",
     "iopub.status.idle": "2025-07-15T10:51:43.095046Z",
     "shell.execute_reply": "2025-07-15T10:51:43.094234Z"
    },
    "papermill": {
     "duration": 0.346479,
     "end_time": "2025-07-15T10:51:43.097687",
     "exception": false,
     "start_time": "2025-07-15T10:51:42.751208",
     "status": "completed"
    },
    "tags": []
   },
   "outputs": [
    {
     "data": {
      "image/png": "[encoded data removed]",
      "text/plain": [
       "<Figure size 1200x700 with 1 Axes>"
      ]
     },
     "metadata": {},
     "output_type": "display_data"
    }
   ],
   "source": [
    "plt.figure(figsize=(12,7))\n",
    "sns.scatterplot(df, x=np.log10(df['price']+1), y='Spec Score')\n",
    "plt.title('Correlation Between Price and Spec Score')\n",
    "plt.xlabel('Log10 Price')\n",
    "plt.ylabel('Spec Score')\n",
    "plt.grid(True, linestyle='--', alpha=0.7)\n",
    "plt.show()"
   ]
  },
  {
   "cell_type": "markdown",
   "id": "0d2390b8",
   "metadata": {
    "papermill": {
     "duration": 0.011622,
     "end_time": "2025-07-15T10:51:43.127322",
     "exception": false,
     "start_time": "2025-07-15T10:51:43.115700",
     "status": "completed"
    },
    "tags": []
   },
   "source": [
    "We can observe from the following picture that there is a positive and generally linear relationship between Spec Score and Price.  In order to reduce the accumulation of the lower data and make it appear clear and instructive, I also perform a logarithmic modification. The top-left \"ribbon\" patterns indicate that a higher spec-score is always associated with a higher price.  Additionally, some pricing clusters with more constrained spec score varieties indicate distinct market sectors (e.g., entry-level, mid-range, and high-end).  These dots on the bottom left provide confirmation of the detected outliers, indicating that the product is being offered with fewer specifications, potentially resulting in a lower price."
   ]
  },
  {
   "cell_type": "code",
   "execution_count": 18,
   "id": "a2bc6e51",
   "metadata": {
    "execution": {
     "iopub.execute_input": "2025-07-15T10:51:43.152249Z",
     "iopub.status.busy": "2025-07-15T10:51:43.151471Z",
     "iopub.status.idle": "2025-07-15T10:51:43.395180Z",
     "shell.execute_reply": "2025-07-15T10:51:43.394455Z"
    },
    "papermill": {
     "duration": 0.259854,
     "end_time": "2025-07-15T10:51:43.398738",
     "exception": false,
     "start_time": "2025-07-15T10:51:43.138884",
     "status": "completed"
    },
    "tags": []
   },
   "outputs": [
    {
     "data": {
      "image/png": "[encoded data removed]",
      "text/plain": [
       "<Figure size 1200x700 with 1 Axes>"
      ]
     },
     "metadata": {},
     "output_type": "display_data"
    }
   ],
   "source": [
    "top_n_processors = df['processor'].value_counts().head(10)\n",
    "plt.figure(figsize=(12,7))\n",
    "sns.barplot(x=top_n_processors.values, y=top_n_processors.index, palette='viridis')\n",
    "plt.title('Distribution of Top 10 Processor Types')\n",
    "plt.xlabel('Number of Phone')\n",
    "plt.ylabel('Processor Type')\n",
    "plt.show()"
   ]
  },
  {
   "cell_type": "code",
   "execution_count": 19,
   "id": "45a0df86",
   "metadata": {
    "execution": {
     "iopub.execute_input": "2025-07-15T10:51:43.442226Z",
     "iopub.status.busy": "2025-07-15T10:51:43.441941Z",
     "iopub.status.idle": "2025-07-15T10:51:43.602590Z",
     "shell.execute_reply": "2025-07-15T10:51:43.601527Z"
    },
    "papermill": {
     "duration": 0.177546,
     "end_time": "2025-07-15T10:51:43.604591",
     "exception": false,
     "start_time": "2025-07-15T10:51:43.427045",
     "status": "completed"
    },
    "tags": []
   },
   "outputs": [
    {
     "data": {
      "image/png": "[encoded data removed]",
      "text/plain": [
       "<Figure size 1200x700 with 1 Axes>"
      ]
     },
     "metadata": {},
     "output_type": "display_data"
    }
   ],
   "source": [
    "tag_counts = df['tag'].value_counts()\n",
    "plt.figure(figsize=(12,7))\n",
    "sns.barplot(data=df, x=tag_counts.index, y=tag_counts.values)\n",
    "plt.title('Tag Count')\n",
    "plt.xlabel('Tag')\n",
    "plt.ylabel('Number of Tag')\n",
    "plt.show()"
   ]
  },
  {
   "cell_type": "markdown",
   "id": "fe6e3b17",
   "metadata": {
    "papermill": {
     "duration": 0.0137,
     "end_time": "2025-07-15T10:51:43.639008",
     "exception": false,
     "start_time": "2025-07-15T10:51:43.625308",
     "status": "completed"
    },
    "tags": []
   },
   "source": [
    "## Feature Engineering"
   ]
  },
  {
   "cell_type": "code",
   "execution_count": 20,
   "id": "4e59436c",
   "metadata": {
    "execution": {
     "iopub.execute_input": "2025-07-15T10:51:43.667765Z",
     "iopub.status.busy": "2025-07-15T10:51:43.667138Z",
     "iopub.status.idle": "2025-07-15T10:51:43.671041Z",
     "shell.execute_reply": "2025-07-15T10:51:43.670161Z"
    },
    "papermill": {
     "duration": 0.019793,
     "end_time": "2025-07-15T10:51:43.672470",
     "exception": false,
     "start_time": "2025-07-15T10:51:43.652677",
     "status": "completed"
    },
    "tags": []
   },
   "outputs": [],
   "source": [
    "import re"
   ]
  },
  {
   "cell_type": "code",
   "execution_count": 21,
   "id": "db94e4a2",
   "metadata": {
    "execution": {
     "iopub.execute_input": "2025-07-15T10:51:43.701625Z",
     "iopub.status.busy": "2025-07-15T10:51:43.701328Z",
     "iopub.status.idle": "2025-07-15T10:51:43.705755Z",
     "shell.execute_reply": "2025-07-15T10:51:43.705011Z"
    },
    "papermill": {
     "duration": 0.020416,
     "end_time": "2025-07-15T10:51:43.707010",
     "exception": false,
     "start_time": "2025-07-15T10:51:43.686594",
     "status": "completed"
    },
    "tags": []
   },
   "outputs": [],
   "source": [
    "def extract_value_from_text(text, pattern):\n",
    "    match = re.search(pattern, text, re.IGNORECASE)\n",
    "    return float(match.group(1)) if match else np.nan"
   ]
  },
  {
   "cell_type": "code",
   "execution_count": 22,
   "id": "0caaf289",
   "metadata": {
    "execution": {
     "iopub.execute_input": "2025-07-15T10:51:43.735577Z",
     "iopub.status.busy": "2025-07-15T10:51:43.734870Z",
     "iopub.status.idle": "2025-07-15T10:51:43.752644Z",
     "shell.execute_reply": "2025-07-15T10:51:43.751670Z"
    },
    "papermill": {
     "duration": 0.033577,
     "end_time": "2025-07-15T10:51:43.754101",
     "exception": false,
     "start_time": "2025-07-15T10:51:43.720524",
     "status": "completed"
    },
    "tags": []
   },
   "outputs": [],
   "source": [
    "df['Battery_mAh'] = df['battery'].apply(lambda x: extract_value_from_text(x, r'(\\d+)\\s*mAh'))\n",
    "df['Display_Inches'] = df['display'].apply(lambda x: extract_value_from_text(x, r'(\\d+\\.?\\d*)\\s*(?:inch|inches|\")'))\n",
    "df['Camera_MP'] = df['camera'].apply(lambda x: extract_value_from_text(x, r'(\\d+)\\s*MP'))"
   ]
  },
  {
   "cell_type": "code",
   "execution_count": 23,
   "id": "a99db822",
   "metadata": {
    "execution": {
     "iopub.execute_input": "2025-07-15T10:51:43.787986Z",
     "iopub.status.busy": "2025-07-15T10:51:43.787311Z",
     "iopub.status.idle": "2025-07-15T10:51:43.962647Z",
     "shell.execute_reply": "2025-07-15T10:51:43.961489Z"
    },
    "papermill": {
     "duration": 0.193289,
     "end_time": "2025-07-15T10:51:43.964196",
     "exception": false,
     "start_time": "2025-07-15T10:51:43.770907",
     "status": "completed"
    },
    "tags": []
   },
   "outputs": [],
   "source": [
    "def extract_ram_rom(storage_str):\n",
    "    storage_str = storage_str.lower()\n",
    "    ram = np.nan\n",
    "    rom = np.nan\n",
    "\n",
    "    ram_match = re.search(r'(\\d+)\\s*gb\\s*ram', storage_str)\n",
    "    if ram_match: ram = int(ram_match.group(1))\n",
    "    \n",
    "    rom_match = re.search(r'(\\d+)\\s*gb(?:(?:\\s*inbuilt)|(?:\\s*storage))', storage_str)\n",
    "    if rom_match: rom = int(rom_match.group(1))\n",
    "    else:\n",
    "        single_gb_match = re.search(r'(\\d+)\\s*gb$', storage_str)\n",
    "        if single_gb_match and (pd.isna(ram) or int(single_gb_match.group(1)) != ram):\n",
    "             rom = int(single_gb_match.group(1))\n",
    "        \n",
    "    return pd.Series({'RAM_GB': ram, 'Internal_Storage_GB': rom})\n",
    "\n",
    "df_storage_parsed = df['storage'].apply(extract_ram_rom)\n",
    "df = pd.concat([df, df_storage_parsed], axis=1)\n"
   ]
  },
  {
   "cell_type": "code",
   "execution_count": 24,
   "id": "915fa400",
   "metadata": {
    "execution": {
     "iopub.execute_input": "2025-07-15T10:51:43.993694Z",
     "iopub.status.busy": "2025-07-15T10:51:43.993370Z",
     "iopub.status.idle": "2025-07-15T10:51:44.002197Z",
     "shell.execute_reply": "2025-07-15T10:51:44.001135Z"
    },
    "papermill": {
     "duration": 0.025526,
     "end_time": "2025-07-15T10:51:44.003851",
     "exception": false,
     "start_time": "2025-07-15T10:51:43.978325",
     "status": "completed"
    },
    "tags": []
   },
   "outputs": [
    {
     "name": "stderr",
     "output_type": "stream",
     "text": [
      "/tmp/ipykernel_19/871476679.py:6: FutureWarning: A value is trying to be set on a copy of a DataFrame or Series through chained assignment using an inplace method.\n",
      "The behavior will change in pandas 3.0. This inplace method will never work because the intermediate object on which we are setting values always behaves as a copy.\n",
      "\n",
      "For example, when doing 'df[col].method(value, inplace=True)', try using 'df.method({col: value}, inplace=True)' or df[col] = df[col].method(value) instead, to perform the operation inplace on the original object.\n",
      "\n",
      "\n",
      "  df[col].fillna(median_val, inplace=True)\n"
     ]
    }
   ],
   "source": [
    "for col in ['Battery_mAh', 'Display_Inches', 'Camera_MP', 'RAM_GB', 'Internal_Storage_GB']:\n",
    "    median_val = df[col].median()\n",
    "    if pd.isna(median_val):\n",
    "        df[col].fillna(0, inplace=True)\n",
    "    else:\n",
    "        df[col].fillna(median_val, inplace=True)"
   ]
  },
  {
   "cell_type": "code",
   "execution_count": 25,
   "id": "37912cba",
   "metadata": {
    "execution": {
     "iopub.execute_input": "2025-07-15T10:51:44.033561Z",
     "iopub.status.busy": "2025-07-15T10:51:44.032886Z",
     "iopub.status.idle": "2025-07-15T10:51:44.037357Z",
     "shell.execute_reply": "2025-07-15T10:51:44.036864Z"
    },
    "papermill": {
     "duration": 0.020416,
     "end_time": "2025-07-15T10:51:44.038622",
     "exception": false,
     "start_time": "2025-07-15T10:51:44.018206",
     "status": "completed"
    },
    "tags": []
   },
   "outputs": [],
   "source": [
    "def extract_processor_brand(processor_name):\n",
    "    processor_name = processor_name.lower()\n",
    "    if 'snapdragon' in processor_name: return 'Snapdragon'\n",
    "    elif 'dimensity' in processor_name: return 'Dimensity'\n",
    "    elif 'helio' in processor_name: return 'Helio'\n",
    "    elif 'exynos' in processor_name: return 'Exynos'\n",
    "    elif 'a series' in processor_name or 'apple' in processor_name or 'bionic' in processor_name: return 'Apple A Series'\n",
    "    elif 'kirin' in processor_name: return 'Kirin'\n",
    "    elif 'mediatek' in processor_name: return 'MediaTek (General)'\n",
    "    elif 'unisoc' in processor_name: return 'Unisoc'\n",
    "    elif 'intel' in processor_name: return 'Intel'\n",
    "    else: return 'Other/Unknown Processor Brand'"
   ]
  },
  {
   "cell_type": "code",
   "execution_count": 26,
   "id": "96b0e666",
   "metadata": {
    "execution": {
     "iopub.execute_input": "2025-07-15T10:51:44.065214Z",
     "iopub.status.busy": "2025-07-15T10:51:44.064979Z",
     "iopub.status.idle": "2025-07-15T10:51:44.069872Z",
     "shell.execute_reply": "2025-07-15T10:51:44.069296Z"
    },
    "papermill": {
     "duration": 0.019399,
     "end_time": "2025-07-15T10:51:44.070895",
     "exception": false,
     "start_time": "2025-07-15T10:51:44.051496",
     "status": "completed"
    },
    "tags": []
   },
   "outputs": [],
   "source": [
    "df['Processor_Brand'] = df['processor'].apply(extract_processor_brand)"
   ]
  },
  {
   "cell_type": "code",
   "execution_count": 27,
   "id": "03b2fcb4",
   "metadata": {
    "execution": {
     "iopub.execute_input": "2025-07-15T10:51:44.097663Z",
     "iopub.status.busy": "2025-07-15T10:51:44.097393Z",
     "iopub.status.idle": "2025-07-15T10:51:44.104115Z",
     "shell.execute_reply": "2025-07-15T10:51:44.103552Z"
    },
    "papermill": {
     "duration": 0.021685,
     "end_time": "2025-07-15T10:51:44.105342",
     "exception": false,
     "start_time": "2025-07-15T10:51:44.083657",
     "status": "completed"
    },
    "tags": []
   },
   "outputs": [],
   "source": [
    "def extract_main_version(version_str):\n",
    "    version_str = version_str.lower()\n",
    "    match_android = re.search(r'android\\s*(\\d+)', version_str)\n",
    "    match_ios = re.search(r'ios\\s*(\\d+)', version_str)\n",
    "    \n",
    "    if match_android: return 'Android ' + match_android.group(1)\n",
    "    elif match_ios: return 'iOS ' + match_ios.group(1)\n",
    "    else: return 'Other/Unknown Version'\n",
    "\n",
    "df['Version_Main'] = df['version'].apply(extract_main_version)"
   ]
  },
  {
   "cell_type": "code",
   "execution_count": 28,
   "id": "cd865f6b",
   "metadata": {
    "execution": {
     "iopub.execute_input": "2025-07-15T10:51:44.133354Z",
     "iopub.status.busy": "2025-07-15T10:51:44.132666Z",
     "iopub.status.idle": "2025-07-15T10:51:44.137825Z",
     "shell.execute_reply": "2025-07-15T10:51:44.137203Z"
    },
    "papermill": {
     "duration": 0.020512,
     "end_time": "2025-07-15T10:51:44.139018",
     "exception": false,
     "start_time": "2025-07-15T10:51:44.118506",
     "status": "completed"
    },
    "tags": []
   },
   "outputs": [],
   "source": [
    "for col in ['sim', 'memoryExternal', 'Processor_Brand', 'Version_Main']:\n",
    "    df[col].fillna('Unknown')"
   ]
  },
  {
   "cell_type": "markdown",
   "id": "53cc88aa",
   "metadata": {
    "papermill": {
     "duration": 0.012668,
     "end_time": "2025-07-15T10:51:44.165133",
     "exception": false,
     "start_time": "2025-07-15T10:51:44.152465",
     "status": "completed"
    },
    "tags": []
   },
   "source": [
    "## Feature Selection"
   ]
  },
  {
   "cell_type": "code",
   "execution_count": 29,
   "id": "1bc3eef3",
   "metadata": {
    "execution": {
     "iopub.execute_input": "2025-07-15T10:51:44.192089Z",
     "iopub.status.busy": "2025-07-15T10:51:44.191511Z",
     "iopub.status.idle": "2025-07-15T10:51:44.195068Z",
     "shell.execute_reply": "2025-07-15T10:51:44.194527Z"
    },
    "papermill": {
     "duration": 0.018129,
     "end_time": "2025-07-15T10:51:44.196191",
     "exception": false,
     "start_time": "2025-07-15T10:51:44.178062",
     "status": "completed"
    },
    "tags": []
   },
   "outputs": [],
   "source": [
    "numerical_features = ['Spec Score', 'rating', 'Battery_mAh', 'Display_Inches', 'Camera_MP', 'RAM_GB', 'Internal_Storage_GB']\n",
    "cat_features = ['tag', 'sim', 'memoryExternal', 'Processor_Brand', 'Version_Main']\n",
    "target = 'price'"
   ]
  },
  {
   "cell_type": "code",
   "execution_count": 30,
   "id": "89a565ef",
   "metadata": {
    "execution": {
     "iopub.execute_input": "2025-07-15T10:51:44.222270Z",
     "iopub.status.busy": "2025-07-15T10:51:44.221775Z",
     "iopub.status.idle": "2025-07-15T10:51:44.226414Z",
     "shell.execute_reply": "2025-07-15T10:51:44.225851Z"
    },
    "papermill": {
     "duration": 0.018868,
     "end_time": "2025-07-15T10:51:44.227680",
     "exception": false,
     "start_time": "2025-07-15T10:51:44.208812",
     "status": "completed"
    },
    "tags": []
   },
   "outputs": [],
   "source": [
    "df['price'] = pd.to_numeric(df['price'], errors='coerce')\n",
    "df['Spec Score'] = pd.to_numeric(df['Spec Score'], errors='coerce')\n",
    "df['rating'] = pd.to_numeric(df['rating'], errors='coerce')"
   ]
  },
  {
   "cell_type": "code",
   "execution_count": 31,
   "id": "bd4ad5e5",
   "metadata": {
    "execution": {
     "iopub.execute_input": "2025-07-15T10:51:44.254861Z",
     "iopub.status.busy": "2025-07-15T10:51:44.254347Z",
     "iopub.status.idle": "2025-07-15T10:51:44.258873Z",
     "shell.execute_reply": "2025-07-15T10:51:44.258297Z"
    },
    "papermill": {
     "duration": 0.018971,
     "end_time": "2025-07-15T10:51:44.260019",
     "exception": false,
     "start_time": "2025-07-15T10:51:44.241048",
     "status": "completed"
    },
    "tags": []
   },
   "outputs": [],
   "source": [
    "X = df[numerical_features+cat_features]\n",
    "y = df[target]"
   ]
  },
  {
   "cell_type": "markdown",
   "id": "1c84a7ab",
   "metadata": {
    "papermill": {
     "duration": 0.012544,
     "end_time": "2025-07-15T10:51:44.285543",
     "exception": false,
     "start_time": "2025-07-15T10:51:44.272999",
     "status": "completed"
    },
    "tags": []
   },
   "source": [
    "# Modelling"
   ]
  },
  {
   "cell_type": "code",
   "execution_count": 32,
   "id": "7e030e68",
   "metadata": {
    "execution": {
     "iopub.execute_input": "2025-07-15T10:51:44.312593Z",
     "iopub.status.busy": "2025-07-15T10:51:44.312125Z",
     "iopub.status.idle": "2025-07-15T10:51:45.072968Z",
     "shell.execute_reply": "2025-07-15T10:51:45.072283Z"
    },
    "papermill": {
     "duration": 0.775871,
     "end_time": "2025-07-15T10:51:45.074287",
     "exception": false,
     "start_time": "2025-07-15T10:51:44.298416",
     "status": "completed"
    },
    "tags": []
   },
   "outputs": [],
   "source": [
    "import pandas as pd\n",
    "import numpy as np\n",
    "import matplotlib.pyplot as plt\n",
    "import seaborn as sns\n",
    "import xgboost as xgb\n",
    "from sklearn.model_selection import train_test_split\n",
    "from sklearn.linear_model import LinearRegression\n",
    "from sklearn.metrics import mean_squared_error, r2_score, mean_absolute_error\n",
    "from sklearn.preprocessing import OneHotEncoder, StandardScaler\n",
    "from sklearn.compose import ColumnTransformer\n",
    "from sklearn.pipeline import Pipeline\n",
    "from sklearn.impute import SimpleImputer\n"
   ]
  },
  {
   "cell_type": "code",
   "execution_count": 33,
   "id": "23120064",
   "metadata": {
    "execution": {
     "iopub.execute_input": "2025-07-15T10:51:45.101847Z",
     "iopub.status.busy": "2025-07-15T10:51:45.101241Z",
     "iopub.status.idle": "2025-07-15T10:51:45.107089Z",
     "shell.execute_reply": "2025-07-15T10:51:45.106502Z"
    },
    "papermill": {
     "duration": 0.020955,
     "end_time": "2025-07-15T10:51:45.108305",
     "exception": false,
     "start_time": "2025-07-15T10:51:45.087350",
     "status": "completed"
    },
    "tags": []
   },
   "outputs": [],
   "source": [
    "X_train, X_test, y_train, y_test = train_test_split(X, y, test_size=0.2, random_state=42)"
   ]
  },
  {
   "cell_type": "code",
   "execution_count": 34,
   "id": "a9f7781b",
   "metadata": {
    "execution": {
     "iopub.execute_input": "2025-07-15T10:51:45.135965Z",
     "iopub.status.busy": "2025-07-15T10:51:45.135168Z",
     "iopub.status.idle": "2025-07-15T10:51:45.139661Z",
     "shell.execute_reply": "2025-07-15T10:51:45.138939Z"
    },
    "papermill": {
     "duration": 0.019399,
     "end_time": "2025-07-15T10:51:45.140929",
     "exception": false,
     "start_time": "2025-07-15T10:51:45.121530",
     "status": "completed"
    },
    "tags": []
   },
   "outputs": [
    {
     "name": "stdout",
     "output_type": "stream",
     "text": [
      "--- Ukuran Data Setelah Pembagian ---\n",
      "Ukuran X_train: (815, 12)\n",
      "Ukuran X_test: (204, 12)\n",
      "Ukuran y_train: (815,)\n",
      "Ukuran y_test: (204,)\n"
     ]
    }
   ],
   "source": [
    "print(\"--- Ukuran Data Setelah Pembagian ---\")\n",
    "print(f\"Ukuran X_train: {X_train.shape}\")\n",
    "print(f\"Ukuran X_test: {X_test.shape}\")\n",
    "print(f\"Ukuran y_train: {y_train.shape}\")\n",
    "print(f\"Ukuran y_test: {y_test.shape}\")"
   ]
  },
  {
   "cell_type": "markdown",
   "id": "35a1f024",
   "metadata": {
    "papermill": {
     "duration": 0.012657,
     "end_time": "2025-07-15T10:51:45.166620",
     "exception": false,
     "start_time": "2025-07-15T10:51:45.153963",
     "status": "completed"
    },
    "tags": []
   },
   "source": [
    "## Preprocessing Pipelines"
   ]
  },
  {
   "cell_type": "code",
   "execution_count": 35,
   "id": "42b49566",
   "metadata": {
    "execution": {
     "iopub.execute_input": "2025-07-15T10:51:45.192788Z",
     "iopub.status.busy": "2025-07-15T10:51:45.192502Z",
     "iopub.status.idle": "2025-07-15T10:51:45.196228Z",
     "shell.execute_reply": "2025-07-15T10:51:45.195675Z"
    },
    "papermill": {
     "duration": 0.018271,
     "end_time": "2025-07-15T10:51:45.197435",
     "exception": false,
     "start_time": "2025-07-15T10:51:45.179164",
     "status": "completed"
    },
    "tags": []
   },
   "outputs": [],
   "source": [
    "num_pipeline = Pipeline(steps=[\n",
    "    ('imputer', SimpleImputer(strategy='median')),\n",
    "    ('scaler', StandardScaler())\n",
    "])"
   ]
  },
  {
   "cell_type": "code",
   "execution_count": 36,
   "id": "972c7b60",
   "metadata": {
    "execution": {
     "iopub.execute_input": "2025-07-15T10:51:45.225762Z",
     "iopub.status.busy": "2025-07-15T10:51:45.225482Z",
     "iopub.status.idle": "2025-07-15T10:51:45.229394Z",
     "shell.execute_reply": "2025-07-15T10:51:45.228661Z"
    },
    "papermill": {
     "duration": 0.019587,
     "end_time": "2025-07-15T10:51:45.230652",
     "exception": false,
     "start_time": "2025-07-15T10:51:45.211065",
     "status": "completed"
    },
    "tags": []
   },
   "outputs": [],
   "source": [
    "cat_pipeline = Pipeline(steps=[\n",
    "    ('imputer', SimpleImputer(strategy='most_frequent')),\n",
    "    ('encoder', OneHotEncoder(handle_unknown='ignore'))\n",
    "])"
   ]
  },
  {
   "cell_type": "code",
   "execution_count": 37,
   "id": "2077ae4d",
   "metadata": {
    "execution": {
     "iopub.execute_input": "2025-07-15T10:51:45.259009Z",
     "iopub.status.busy": "2025-07-15T10:51:45.258517Z",
     "iopub.status.idle": "2025-07-15T10:51:45.262359Z",
     "shell.execute_reply": "2025-07-15T10:51:45.261627Z"
    },
    "papermill": {
     "duration": 0.019485,
     "end_time": "2025-07-15T10:51:45.263672",
     "exception": false,
     "start_time": "2025-07-15T10:51:45.244187",
     "status": "completed"
    },
    "tags": []
   },
   "outputs": [],
   "source": [
    "preprocessor = ColumnTransformer(transformers=[\n",
    "    ('num', num_pipeline, numerical_features),\n",
    "    ('cat', cat_pipeline, cat_features)\n",
    "])"
   ]
  },
  {
   "cell_type": "markdown",
   "id": "d0cfd004",
   "metadata": {
    "papermill": {
     "duration": 0.012346,
     "end_time": "2025-07-15T10:51:45.288886",
     "exception": false,
     "start_time": "2025-07-15T10:51:45.276540",
     "status": "completed"
    },
    "tags": []
   },
   "source": [
    "## Pipelines Model"
   ]
  },
  {
   "cell_type": "code",
   "execution_count": 38,
   "id": "90e0b547",
   "metadata": {
    "execution": {
     "iopub.execute_input": "2025-07-15T10:51:45.316268Z",
     "iopub.status.busy": "2025-07-15T10:51:45.315584Z",
     "iopub.status.idle": "2025-07-15T10:51:45.319588Z",
     "shell.execute_reply": "2025-07-15T10:51:45.318948Z"
    },
    "papermill": {
     "duration": 0.01902,
     "end_time": "2025-07-15T10:51:45.320792",
     "exception": false,
     "start_time": "2025-07-15T10:51:45.301772",
     "status": "completed"
    },
    "tags": []
   },
   "outputs": [],
   "source": [
    "pipeline_lr = Pipeline(steps=[\n",
    "    ('preprocessor', preprocessor),\n",
    "    ('regressor', LinearRegression())\n",
    "])"
   ]
  },
  {
   "cell_type": "code",
   "execution_count": 39,
   "id": "670b6090",
   "metadata": {
    "execution": {
     "iopub.execute_input": "2025-07-15T10:51:45.347729Z",
     "iopub.status.busy": "2025-07-15T10:51:45.347065Z",
     "iopub.status.idle": "2025-07-15T10:51:45.350841Z",
     "shell.execute_reply": "2025-07-15T10:51:45.350278Z"
    },
    "papermill": {
     "duration": 0.01853,
     "end_time": "2025-07-15T10:51:45.351932",
     "exception": false,
     "start_time": "2025-07-15T10:51:45.333402",
     "status": "completed"
    },
    "tags": []
   },
   "outputs": [],
   "source": [
    "pipeline_xgb = Pipeline(steps=[\n",
    "    ('preprocessor', preprocessor),\n",
    "    ('regressor', xgb.XGBRegressor(random_state=42))\n",
    "])"
   ]
  },
  {
   "cell_type": "markdown",
   "id": "02580626",
   "metadata": {
    "papermill": {
     "duration": 0.011664,
     "end_time": "2025-07-15T10:51:45.376030",
     "exception": false,
     "start_time": "2025-07-15T10:51:45.364366",
     "status": "completed"
    },
    "tags": []
   },
   "source": [
    "## Training Model"
   ]
  },
  {
   "cell_type": "code",
   "execution_count": 40,
   "id": "2d385684",
   "metadata": {
    "execution": {
     "iopub.execute_input": "2025-07-15T10:51:45.402122Z",
     "iopub.status.busy": "2025-07-15T10:51:45.401452Z",
     "iopub.status.idle": "2025-07-15T10:51:45.407057Z",
     "shell.execute_reply": "2025-07-15T10:51:45.406445Z"
    },
    "papermill": {
     "duration": 0.020137,
     "end_time": "2025-07-15T10:51:45.408113",
     "exception": false,
     "start_time": "2025-07-15T10:51:45.387976",
     "status": "completed"
    },
    "tags": []
   },
   "outputs": [],
   "source": [
    "def evaluate_model(pipeline, name, position):\n",
    "    pipeline.fit(X_train, y_train)\n",
    "    y_pred = pipeline.predict(X_test)\n",
    "    print(f\"\\n=== {name} ===\")\n",
    "    print(\"MAE :\", mean_absolute_error(y_test, y_pred))\n",
    "    print(\"MSE :\", mean_squared_error(y_test, y_pred))\n",
    "    print(\"RMSE:\", np.sqrt(mean_squared_error(y_test, y_pred)))\n",
    "    print(\"R2  :\", r2_score(y_test, y_pred))\n",
    "\n",
    "    plt.subplot(1, 2, position)\n",
    "    sns.scatterplot(x=y_test, y=y_pred)\n",
    "    plt.xlabel(\"Actual Price\")\n",
    "    plt.ylabel(\"Predicted Price\")\n",
    "    plt.title(f\"{name}\")\n",
    "    plt.plot([y_test.min(), y_test.max()], [y_test.min(), y_test.max()], 'r--')\n",
    "    plt.grid(True)\n",
    "\n",
    "    return pipeline, y_pred"
   ]
  },
  {
   "cell_type": "code",
   "execution_count": 41,
   "id": "4adc3f79",
   "metadata": {
    "execution": {
     "iopub.execute_input": "2025-07-15T10:51:45.434003Z",
     "iopub.status.busy": "2025-07-15T10:51:45.433775Z",
     "iopub.status.idle": "2025-07-15T10:51:46.056268Z",
     "shell.execute_reply": "2025-07-15T10:51:46.055539Z"
    },
    "papermill": {
     "duration": 0.637394,
     "end_time": "2025-07-15T10:51:46.058114",
     "exception": false,
     "start_time": "2025-07-15T10:51:45.420720",
     "status": "completed"
    },
    "tags": []
   },
   "outputs": [
    {
     "name": "stdout",
     "output_type": "stream",
     "text": [
      "\n",
      "=== Linear Regression ===\n",
      "MAE : 17735.782939974\n",
      "MSE : 862568812.1374716\n",
      "RMSE: 29369.5218234392\n",
      "R2  : 0.5387050469309966\n",
      "\n",
      "=== XGBoost Regressor ===\n",
      "MAE : 11737.635122261796\n",
      "MSE : 1117538069.4651341\n",
      "RMSE: 33429.5987033218\n",
      "R2  : 0.40234951223278903\n"
     ]
    },
    {
     "data": {
      "image/png": "[encoded data removed]",
      "text/plain": [
       "<Figure size 1200x600 with 2 Axes>"
      ]
     },
     "metadata": {},
     "output_type": "display_data"
    }
   ],
   "source": [
    "plt.figure(figsize=(12, 6)) \n",
    "model_lr, pred_lr = evaluate_model(pipeline_lr, \"Linear Regression\", position=1)\n",
    "model_xgb, pred_xgb = evaluate_model(pipeline_xgb, \"XGBoost Regressor\", position=2)\n",
    "plt.tight_layout()\n",
    "plt.show()"
   ]
  }
 ],
 "metadata": {
  "kaggle": {
   "accelerator": "none",
   "dataSources": [
    {
     "datasetId": 7756136,
     "sourceId": 12305086,
     "sourceType": "datasetVersion"
    }
   ],
   "dockerImageVersionId": 31089,
   "isGpuEnabled": false,
   "isInternetEnabled": true,
   "language": "python",
   "sourceType": "notebook"
  },
  "kernelspec": {
   "display_name": "Python 3",
   "language": "python",
   "name": "python3"
  },
  "language_info": {
   "codemirror_mode": {
    "name": "ipython",
    "version": 3
   },
   "file_extension": ".py",
   "mimetype": "text/x-python",
   "name": "python",
   "nbconvert_exporter": "python",
   "pygments_lexer": "ipython3",
   "version": "3.11.13"
  },
  "papermill": {
   "default_parameters": {},
   "duration": 13.263113,
   "end_time": "2025-07-15T10:51:46.690916",
   "environment_variables": {},
   "exception": null,
   "input_path": "__notebook__.ipynb",
   "output_path": "__notebook__.ipynb",
   "parameters": {},
   "start_time": "2025-07-15T10:51:33.427803",
   "version": "2.6.0"
  }
 },
 "nbformat": 4,
 "nbformat_minor": 5
}
