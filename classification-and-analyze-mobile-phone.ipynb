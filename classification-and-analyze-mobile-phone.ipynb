{
 "cells": [
  {
   "cell_type": "code",
   "execution_count": 1,
   "id": "979ead97",
   "metadata": {
    "_cell_guid": "b1076dfc-b9ad-4769-8c92-a6c4dae69d19",
    "_uuid": "8f2839f25d086af736a60e9eeb907d3b93b6e0e5",
    "execution": {
     "iopub.execute_input": "2025-07-13T14:06:35.557837Z",
     "iopub.status.busy": "2025-07-13T14:06:35.557428Z",
     "iopub.status.idle": "2025-07-13T14:06:39.154078Z",
     "shell.execute_reply": "2025-07-13T14:06:39.152993Z"
    },
    "papermill": {
     "duration": 3.602357,
     "end_time": "2025-07-13T14:06:39.155737",
     "exception": false,
     "start_time": "2025-07-13T14:06:35.553380",
     "status": "completed"
    },
    "tags": []
   },
   "outputs": [
    {
     "name": "stdout",
     "output_type": "stream",
     "text": [
      "/kaggle/input/mobile-uncleaned-data-set-scrapped-real-website/mobile.csv\n"
     ]
    }
   ],
   "source": [
    "# This Python 3 environment comes with many helpful analytics libraries installed\n",
    "# It is defined by the kaggle/python Docker image: https://github.com/kaggle/docker-python\n",
    "# For example, here's several helpful packages to load\n",
    "\n",
    "import numpy as np # linear algebra\n",
    "import pandas as pd # data processing, CSV file I/O (e.g. pd.read_csv)\n",
    "import seaborn as sns\n",
    "import matplotlib.pyplot as plt\n",
    "# Input data files are available in the read-only \"../input/\" directory\n",
    "# For example, running this (by clicking run or pressing Shift+Enter) will list all files under the input directory\n",
    "\n",
    "import os\n",
    "for dirname, _, filenames in os.walk('/kaggle/input/mobile-uncleaned-data-set-scrapped-real-website'):\n",
    "    for filename in filenames:\n",
    "        print(os.path.join(dirname, filename))\n",
    "\n",
    "# You can write up to 20GB to the current directory (/kaggle/working/) that gets preserved as output when you create a version using \"Save & Run All\" \n",
    "# You can also write temporary files to /kaggle/temp/, but they won't be saved outside of the current session"
   ]
  },
  {
   "cell_type": "markdown",
   "id": "61fa276a",
   "metadata": {
    "papermill": {
     "duration": 0.002028,
     "end_time": "2025-07-13T14:06:39.160760",
     "exception": false,
     "start_time": "2025-07-13T14:06:39.158732",
     "status": "completed"
    },
    "tags": []
   },
   "source": [
    "## Data Cleaning"
   ]
  },
  {
   "cell_type": "code",
   "execution_count": 2,
   "id": "f4cedebc",
   "metadata": {
    "execution": {
     "iopub.execute_input": "2025-07-13T14:06:39.166713Z",
     "iopub.status.busy": "2025-07-13T14:06:39.166247Z",
     "iopub.status.idle": "2025-07-13T14:06:39.215123Z",
     "shell.execute_reply": "2025-07-13T14:06:39.213990Z"
    },
    "papermill": {
     "duration": 0.054204,
     "end_time": "2025-07-13T14:06:39.217302",
     "exception": false,
     "start_time": "2025-07-13T14:06:39.163098",
     "status": "completed"
    },
    "tags": []
   },
   "outputs": [],
   "source": [
    "df = pd.read_csv('/kaggle/input/mobile-uncleaned-data-set-scrapped-real-website/mobile.csv')"
   ]
  },
  {
   "cell_type": "code",
   "execution_count": 3,
   "id": "d0bf3c81",
   "metadata": {
    "execution": {
     "iopub.execute_input": "2025-07-13T14:06:39.224241Z",
     "iopub.status.busy": "2025-07-13T14:06:39.223934Z",
     "iopub.status.idle": "2025-07-13T14:06:39.255872Z",
     "shell.execute_reply": "2025-07-13T14:06:39.254967Z"
    },
    "papermill": {
     "duration": 0.037155,
     "end_time": "2025-07-13T14:06:39.257738",
     "exception": false,
     "start_time": "2025-07-13T14:06:39.220583",
     "status": "completed"
    },
    "tags": []
   },
   "outputs": [
    {
     "data": {
      "text/html": [
       "<div>\n",
       "<style scoped>\n",
       "    .dataframe tbody tr th:only-of-type {\n",
       "        vertical-align: middle;\n",
       "    }\n",
       "\n",
       "    .dataframe tbody tr th {\n",
       "        vertical-align: top;\n",
       "    }\n",
       "\n",
       "    .dataframe thead th {\n",
       "        text-align: right;\n",
       "    }\n",
       "</style>\n",
       "<table border=\"1\" class=\"dataframe\">\n",
       "  <thead>\n",
       "    <tr style=\"text-align: right;\">\n",
       "      <th></th>\n",
       "      <th>Name</th>\n",
       "      <th>Spec Score</th>\n",
       "      <th>rating</th>\n",
       "      <th>price</th>\n",
       "      <th>img</th>\n",
       "      <th>tag</th>\n",
       "      <th>sim</th>\n",
       "      <th>processor</th>\n",
       "      <th>storage</th>\n",
       "      <th>battery</th>\n",
       "      <th>display</th>\n",
       "      <th>camera</th>\n",
       "      <th>memoryExternal</th>\n",
       "      <th>version</th>\n",
       "      <th>fm</th>\n",
       "    </tr>\n",
       "  </thead>\n",
       "  <tbody>\n",
       "    <tr>\n",
       "      <th>0</th>\n",
       "      <td>OPPO Reno 14 Pro 5G</td>\n",
       "      <td>89</td>\n",
       "      <td>4.65</td>\n",
       "      <td>41990</td>\n",
       "      <td>https://cdn1.smartprix.com/rx-is822PXo3-w280-h...</td>\n",
       "      <td>UPCOMING</td>\n",
       "      <td>Dual Sim, 3G, 4G, 5G, VoLTE, Wi-Fi, NFC, IR Bl...</td>\n",
       "      <td>Dimensity 8450, Octa Core, 3.25 GHz Processor</td>\n",
       "      <td>12 GB RAM, 256 GB inbuilt</td>\n",
       "      <td>6200 mAh Battery with 80W Fast Charging</td>\n",
       "      <td>6.83 inches, 1272 x 2800 px, 120 Hz Display wi...</td>\n",
       "      <td>50 MP + 50 MP + 50 MP Triple Rear &amp; 50 MP Fron...</td>\n",
       "      <td>NaN</td>\n",
       "      <td>Android v15</td>\n",
       "      <td>No FM Radio</td>\n",
       "    </tr>\n",
       "    <tr>\n",
       "      <th>1</th>\n",
       "      <td>OPPO Reno 14 5G</td>\n",
       "      <td>87</td>\n",
       "      <td>4.75</td>\n",
       "      <td>32990</td>\n",
       "      <td>https://cdn1.smartprix.com/rx-iRGgfcGDH-w280-h...</td>\n",
       "      <td>UPCOMING</td>\n",
       "      <td>Dual Sim, 3G, 4G, 5G, VoLTE, Wi-Fi, NFC, IR Bl...</td>\n",
       "      <td>Dimensity 8350, Octa Core, 3.35 GHz Processor</td>\n",
       "      <td>8 GB RAM, 256 GB inbuilt</td>\n",
       "      <td>6000 mAh Battery with 80W Fast Charging</td>\n",
       "      <td>6.59 inches, 1256 x 2760 px, 120 Hz Display wi...</td>\n",
       "      <td>50 MP + 50 MP + 8 MP Triple Rear &amp; 50 MP Front...</td>\n",
       "      <td>NaN</td>\n",
       "      <td>Android v15</td>\n",
       "      <td>No FM Radio</td>\n",
       "    </tr>\n",
       "    <tr>\n",
       "      <th>2</th>\n",
       "      <td>Poco F7 5G</td>\n",
       "      <td>83</td>\n",
       "      <td>4.75</td>\n",
       "      <td>31999</td>\n",
       "      <td>https://cdn1.smartprix.com/rx-icmgBU9Q2-w280-h...</td>\n",
       "      <td>LAUNCHED</td>\n",
       "      <td>Dual Sim, 3G, 4G, 5G, VoLTE, Wi-Fi, NFC, IR Bl...</td>\n",
       "      <td>Snapdragon 8s Gen4, Octa Core, 3.2 GHz Processor</td>\n",
       "      <td>12 GB RAM, 256 GB inbuilt</td>\n",
       "      <td>7550 mAh Battery with 90W Fast Charging</td>\n",
       "      <td>6.83 inches, 1280 x 2772 px, 120 Hz Display wi...</td>\n",
       "      <td>50 MP + 8 MP Dual Rear &amp; 20 MP Front Camera</td>\n",
       "      <td>Memory Card Not Supported</td>\n",
       "      <td>Android v15</td>\n",
       "      <td>NaN</td>\n",
       "    </tr>\n",
       "    <tr>\n",
       "      <th>3</th>\n",
       "      <td>Vivo X200 FE</td>\n",
       "      <td>89</td>\n",
       "      <td>4.65</td>\n",
       "      <td>49990</td>\n",
       "      <td>https://cdn1.smartprix.com/rx-iHI7IaQgQ-w280-h...</td>\n",
       "      <td>UPCOMING</td>\n",
       "      <td>Dual Sim, 3G, 4G, 5G, VoLTE, Wi-Fi, NFC, IR Bl...</td>\n",
       "      <td>Dimensity 9300 Plus, Octa Core, 3.25 GHz Proce...</td>\n",
       "      <td>12 GB RAM, 256 GB inbuilt</td>\n",
       "      <td>6500 mAh Battery with 90W Fast Charging</td>\n",
       "      <td>6.31 inches, 1216 x 2640 px, 120 Hz Display wi...</td>\n",
       "      <td>50 MP + 50 MP + 8 MP Triple Rear &amp; 50 MP Front...</td>\n",
       "      <td>Memory Card Not Supported</td>\n",
       "      <td>Android v15</td>\n",
       "      <td>NaN</td>\n",
       "    </tr>\n",
       "    <tr>\n",
       "      <th>4</th>\n",
       "      <td>OPPO K13x 5G</td>\n",
       "      <td>73</td>\n",
       "      <td>4.20</td>\n",
       "      <td>11999</td>\n",
       "      <td>https://cdn1.smartprix.com/rx-iXUulomIY-w280-h...</td>\n",
       "      <td>LAUNCHED</td>\n",
       "      <td>Dual Sim, 3G, 4G, 5G, VoLTE, Wi-Fi</td>\n",
       "      <td>Dimensity 6300, Octa Core, 2.4 GHz Processor</td>\n",
       "      <td>4 GB RAM, 128 GB inbuilt</td>\n",
       "      <td>6000 mAh Battery with 45W Fast Charging</td>\n",
       "      <td>6.67 inches, 720 x 1604 px, 120 Hz Display wit...</td>\n",
       "      <td>50 MP + 2 MP Dual Rear &amp; 8 MP Front Camera</td>\n",
       "      <td>Memory Card Supported, upto 2 TB</td>\n",
       "      <td>Android v15</td>\n",
       "      <td>NaN</td>\n",
       "    </tr>\n",
       "  </tbody>\n",
       "</table>\n",
       "</div>"
      ],
      "text/plain": [
       "                  Name  Spec Score  rating  price  \\\n",
       "0  OPPO Reno 14 Pro 5G          89    4.65  41990   \n",
       "1      OPPO Reno 14 5G          87    4.75  32990   \n",
       "2           Poco F7 5G          83    4.75  31999   \n",
       "3         Vivo X200 FE          89    4.65  49990   \n",
       "4         OPPO K13x 5G          73    4.20  11999   \n",
       "\n",
       "                                                 img       tag  \\\n",
       "0  https://cdn1.smartprix.com/rx-is822PXo3-w280-h...  UPCOMING   \n",
       "1  https://cdn1.smartprix.com/rx-iRGgfcGDH-w280-h...  UPCOMING   \n",
       "2  https://cdn1.smartprix.com/rx-icmgBU9Q2-w280-h...  LAUNCHED   \n",
       "3  https://cdn1.smartprix.com/rx-iHI7IaQgQ-w280-h...  UPCOMING   \n",
       "4  https://cdn1.smartprix.com/rx-iXUulomIY-w280-h...  LAUNCHED   \n",
       "\n",
       "                                                 sim  \\\n",
       "0  Dual Sim, 3G, 4G, 5G, VoLTE, Wi-Fi, NFC, IR Bl...   \n",
       "1  Dual Sim, 3G, 4G, 5G, VoLTE, Wi-Fi, NFC, IR Bl...   \n",
       "2  Dual Sim, 3G, 4G, 5G, VoLTE, Wi-Fi, NFC, IR Bl...   \n",
       "3  Dual Sim, 3G, 4G, 5G, VoLTE, Wi-Fi, NFC, IR Bl...   \n",
       "4                 Dual Sim, 3G, 4G, 5G, VoLTE, Wi-Fi   \n",
       "\n",
       "                                           processor  \\\n",
       "0      Dimensity 8450, Octa Core, 3.25 GHz Processor   \n",
       "1      Dimensity 8350, Octa Core, 3.35 GHz Processor   \n",
       "2   Snapdragon 8s Gen4, Octa Core, 3.2 GHz Processor   \n",
       "3  Dimensity 9300 Plus, Octa Core, 3.25 GHz Proce...   \n",
       "4       Dimensity 6300, Octa Core, 2.4 GHz Processor   \n",
       "\n",
       "                     storage                                  battery  \\\n",
       "0  12 GB RAM, 256 GB inbuilt  6200 mAh Battery with 80W Fast Charging   \n",
       "1   8 GB RAM, 256 GB inbuilt  6000 mAh Battery with 80W Fast Charging   \n",
       "2  12 GB RAM, 256 GB inbuilt  7550 mAh Battery with 90W Fast Charging   \n",
       "3  12 GB RAM, 256 GB inbuilt  6500 mAh Battery with 90W Fast Charging   \n",
       "4   4 GB RAM, 128 GB inbuilt  6000 mAh Battery with 45W Fast Charging   \n",
       "\n",
       "                                             display  \\\n",
       "0  6.83 inches, 1272 x 2800 px, 120 Hz Display wi...   \n",
       "1  6.59 inches, 1256 x 2760 px, 120 Hz Display wi...   \n",
       "2  6.83 inches, 1280 x 2772 px, 120 Hz Display wi...   \n",
       "3  6.31 inches, 1216 x 2640 px, 120 Hz Display wi...   \n",
       "4  6.67 inches, 720 x 1604 px, 120 Hz Display wit...   \n",
       "\n",
       "                                              camera  \\\n",
       "0  50 MP + 50 MP + 50 MP Triple Rear & 50 MP Fron...   \n",
       "1  50 MP + 50 MP + 8 MP Triple Rear & 50 MP Front...   \n",
       "2        50 MP + 8 MP Dual Rear & 20 MP Front Camera   \n",
       "3  50 MP + 50 MP + 8 MP Triple Rear & 50 MP Front...   \n",
       "4         50 MP + 2 MP Dual Rear & 8 MP Front Camera   \n",
       "\n",
       "                     memoryExternal      version           fm  \n",
       "0                               NaN  Android v15  No FM Radio  \n",
       "1                               NaN  Android v15  No FM Radio  \n",
       "2         Memory Card Not Supported  Android v15          NaN  \n",
       "3         Memory Card Not Supported  Android v15          NaN  \n",
       "4  Memory Card Supported, upto 2 TB  Android v15          NaN  "
      ]
     },
     "execution_count": 3,
     "metadata": {},
     "output_type": "execute_result"
    }
   ],
   "source": [
    "df.head()"
   ]
  },
  {
   "cell_type": "code",
   "execution_count": 4,
   "id": "ee02be6d",
   "metadata": {
    "execution": {
     "iopub.execute_input": "2025-07-13T14:06:39.267658Z",
     "iopub.status.busy": "2025-07-13T14:06:39.267236Z",
     "iopub.status.idle": "2025-07-13T14:06:39.276734Z",
     "shell.execute_reply": "2025-07-13T14:06:39.275946Z"
    },
    "papermill": {
     "duration": 0.015441,
     "end_time": "2025-07-13T14:06:39.278177",
     "exception": false,
     "start_time": "2025-07-13T14:06:39.262736",
     "status": "completed"
    },
    "tags": []
   },
   "outputs": [
    {
     "data": {
      "text/plain": [
       "Name                0\n",
       "Spec Score          0\n",
       "rating              0\n",
       "price               0\n",
       "img                 0\n",
       "tag                 0\n",
       "sim                 0\n",
       "processor          26\n",
       "storage            20\n",
       "battery             6\n",
       "display             1\n",
       "camera             11\n",
       "memoryExternal    351\n",
       "version            48\n",
       "fm                725\n",
       "dtype: int64"
      ]
     },
     "execution_count": 4,
     "metadata": {},
     "output_type": "execute_result"
    }
   ],
   "source": [
    "df.isnull().sum()"
   ]
  },
  {
   "cell_type": "code",
   "execution_count": 5,
   "id": "c4ad1352",
   "metadata": {
    "execution": {
     "iopub.execute_input": "2025-07-13T14:06:39.284779Z",
     "iopub.status.busy": "2025-07-13T14:06:39.284307Z",
     "iopub.status.idle": "2025-07-13T14:06:39.308697Z",
     "shell.execute_reply": "2025-07-13T14:06:39.307864Z"
    },
    "papermill": {
     "duration": 0.029306,
     "end_time": "2025-07-13T14:06:39.310370",
     "exception": false,
     "start_time": "2025-07-13T14:06:39.281064",
     "status": "completed"
    },
    "tags": []
   },
   "outputs": [
    {
     "data": {
      "text/html": [
       "<div>\n",
       "<style scoped>\n",
       "    .dataframe tbody tr th:only-of-type {\n",
       "        vertical-align: middle;\n",
       "    }\n",
       "\n",
       "    .dataframe tbody tr th {\n",
       "        vertical-align: top;\n",
       "    }\n",
       "\n",
       "    .dataframe thead th {\n",
       "        text-align: right;\n",
       "    }\n",
       "</style>\n",
       "<table border=\"1\" class=\"dataframe\">\n",
       "  <thead>\n",
       "    <tr style=\"text-align: right;\">\n",
       "      <th></th>\n",
       "      <th>Spec Score</th>\n",
       "      <th>rating</th>\n",
       "      <th>price</th>\n",
       "    </tr>\n",
       "  </thead>\n",
       "  <tbody>\n",
       "    <tr>\n",
       "      <th>count</th>\n",
       "      <td>1019.000000</td>\n",
       "      <td>1019.000000</td>\n",
       "      <td>1019.000000</td>\n",
       "    </tr>\n",
       "    <tr>\n",
       "      <th>mean</th>\n",
       "      <td>78.513248</td>\n",
       "      <td>4.377380</td>\n",
       "      <td>35006.714426</td>\n",
       "    </tr>\n",
       "    <tr>\n",
       "      <th>std</th>\n",
       "      <td>12.754081</td>\n",
       "      <td>0.234293</td>\n",
       "      <td>40671.714570</td>\n",
       "    </tr>\n",
       "    <tr>\n",
       "      <th>min</th>\n",
       "      <td>7.000000</td>\n",
       "      <td>3.450000</td>\n",
       "      <td>99.000000</td>\n",
       "    </tr>\n",
       "    <tr>\n",
       "      <th>25%</th>\n",
       "      <td>75.000000</td>\n",
       "      <td>4.150000</td>\n",
       "      <td>13999.000000</td>\n",
       "    </tr>\n",
       "    <tr>\n",
       "      <th>50%</th>\n",
       "      <td>81.000000</td>\n",
       "      <td>4.400000</td>\n",
       "      <td>23498.000000</td>\n",
       "    </tr>\n",
       "    <tr>\n",
       "      <th>75%</th>\n",
       "      <td>85.000000</td>\n",
       "      <td>4.600000</td>\n",
       "      <td>39990.000000</td>\n",
       "    </tr>\n",
       "    <tr>\n",
       "      <th>max</th>\n",
       "      <td>96.000000</td>\n",
       "      <td>4.750000</td>\n",
       "      <td>489990.000000</td>\n",
       "    </tr>\n",
       "  </tbody>\n",
       "</table>\n",
       "</div>"
      ],
      "text/plain": [
       "        Spec Score       rating          price\n",
       "count  1019.000000  1019.000000    1019.000000\n",
       "mean     78.513248     4.377380   35006.714426\n",
       "std      12.754081     0.234293   40671.714570\n",
       "min       7.000000     3.450000      99.000000\n",
       "25%      75.000000     4.150000   13999.000000\n",
       "50%      81.000000     4.400000   23498.000000\n",
       "75%      85.000000     4.600000   39990.000000\n",
       "max      96.000000     4.750000  489990.000000"
      ]
     },
     "execution_count": 5,
     "metadata": {},
     "output_type": "execute_result"
    }
   ],
   "source": [
    "df.describe()"
   ]
  },
  {
   "cell_type": "code",
   "execution_count": 6,
   "id": "7f7c8586",
   "metadata": {
    "execution": {
     "iopub.execute_input": "2025-07-13T14:06:39.317382Z",
     "iopub.status.busy": "2025-07-13T14:06:39.316999Z",
     "iopub.status.idle": "2025-07-13T14:06:39.326909Z",
     "shell.execute_reply": "2025-07-13T14:06:39.325713Z"
    },
    "papermill": {
     "duration": 0.015358,
     "end_time": "2025-07-13T14:06:39.328614",
     "exception": false,
     "start_time": "2025-07-13T14:06:39.313256",
     "status": "completed"
    },
    "tags": []
   },
   "outputs": [
    {
     "name": "stdout",
     "output_type": "stream",
     "text": [
      "\n",
      "Outliers (IQR method - List):\n",
      "[36, 29, 23, 58, 7, 9, 24, 55, 20, 32, 14, 59, 22, 56, 11, 57, 33, 16, 15, 21, 22, 20, 51, 48, 52, 16, 17, 13, 34, 55, 17, 30, 14, 13, 10, 16, 56, 47, 18, 12, 17, 15]\n"
     ]
    }
   ],
   "source": [
    "q1 = np.percentile(df['Spec Score'], 25)\n",
    "q3 = np.percentile(df['Spec Score'], 75)\n",
    "iqr = q3-q1\n",
    "lower_bound = q1 - 1.5 * iqr\n",
    "upper_bound = q3 + 1.5 * iqr\n",
    "\n",
    "outliers_list = [x for x in df['Spec Score'] if x < lower_bound or x > upper_bound]\n",
    "print(f\"\\nOutliers (IQR method - List):\\n{outliers_list}\")"
   ]
  },
  {
   "cell_type": "code",
   "execution_count": 7,
   "id": "a03736f4",
   "metadata": {
    "execution": {
     "iopub.execute_input": "2025-07-13T14:06:39.337251Z",
     "iopub.status.busy": "2025-07-13T14:06:39.336878Z",
     "iopub.status.idle": "2025-07-13T14:06:39.596030Z",
     "shell.execute_reply": "2025-07-13T14:06:39.595131Z"
    },
    "papermill": {
     "duration": 0.264596,
     "end_time": "2025-07-13T14:06:39.597501",
     "exception": false,
     "start_time": "2025-07-13T14:06:39.332905",
     "status": "completed"
    },
    "tags": []
   },
   "outputs": [
    {
     "data": {
      "image/png": "[encoded data removed]",
      "text/plain": [
       "<Figure size 1200x700 with 1 Axes>"
      ]
     },
     "metadata": {},
     "output_type": "display_data"
    }
   ],
   "source": [
    "plt.figure(figsize=(12, 7)) \n",
    "sns.boxplot(y=df['Spec Score'])\n",
    "plt.title('Box Plot dari Spec Score')\n",
    "plt.ylabel('Spec Score') \n",
    "plt.grid(True, linestyle='--', alpha=0.7)\n",
    "plt.show() "
   ]
  },
  {
   "cell_type": "code",
   "execution_count": null,
   "id": "191dab73",
   "metadata": {
    "papermill": {
     "duration": 0.003054,
     "end_time": "2025-07-13T14:06:39.604052",
     "exception": false,
     "start_time": "2025-07-13T14:06:39.600998",
     "status": "completed"
    },
    "tags": []
   },
   "outputs": [],
   "source": []
  }
 ],
 "metadata": {
  "kaggle": {
   "accelerator": "none",
   "dataSources": [
    {
     "datasetId": 7756136,
     "sourceId": 12305086,
     "sourceType": "datasetVersion"
    }
   ],
   "dockerImageVersionId": 31089,
   "isGpuEnabled": false,
   "isInternetEnabled": true,
   "language": "python",
   "sourceType": "notebook"
  },
  "kernelspec": {
   "display_name": "Python 3",
   "language": "python",
   "name": "python3"
  },
  "language_info": {
   "codemirror_mode": {
    "name": "ipython",
    "version": 3
   },
   "file_extension": ".py",
   "mimetype": "text/x-python",
   "name": "python",
   "nbconvert_exporter": "python",
   "pygments_lexer": "ipython3",
   "version": "3.11.13"
  },
  "papermill": {
   "default_parameters": {},
   "duration": 9.323396,
   "end_time": "2025-07-13T14:06:40.227072",
   "environment_variables": {},
   "exception": null,
   "input_path": "__notebook__.ipynb",
   "output_path": "__notebook__.ipynb",
   "parameters": {},
   "start_time": "2025-07-13T14:06:30.903676",
   "version": "2.6.0"
  }
 },
 "nbformat": 4,
 "nbformat_minor": 5
}
